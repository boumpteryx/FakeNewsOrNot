{
  "nbformat": 4,
  "nbformat_minor": 0,
  "metadata": {
    "colab": {
      "name": "Real or Not ?.ipynb",
      "provenance": [],
      "collapsed_sections": [],
      "toc_visible": true
    },
    "kernelspec": {
      "name": "python3",
      "display_name": "Python 3"
    },
    "accelerator": "TPU"
  },
  "cells": [
    {
      "cell_type": "code",
      "metadata": {
        "id": "BonFnA9U8K9h",
        "colab": {
          "base_uri": "https://localhost:8080/",
          "height": 89
        },
        "outputId": "6eaac451-549d-45ba-b8c7-57ccc6544238"
      },
      "source": [
        "import numpy as np\n",
        "import pandas as pd\n",
        "from google.colab import files\n",
        "import io\n",
        "import re\n",
        "from scipy.sparse import hstack\n",
        "from sklearn import linear_model\n",
        "from sklearn.metrics import confusion_matrix, accuracy_score\n",
        "from sklearn.model_selection import GridSearchCV, cross_val_score, train_test_split\n",
        "from sklearn.tree import DecisionTreeClassifier\n",
        "from sklearn.ensemble import AdaBoostClassifier, RandomForestClassifier\n",
        "from sklearn.svm import SVC\n",
        "from sklearn.feature_extraction.text import TfidfVectorizer, CountVectorizer\n",
        "import nltk\n",
        "import seaborn as sns\n",
        "from tensorflow.keras import Sequential\n",
        "from tensorflow.keras.layers import Masking, Embedding, Dense, LSTM, SpatialDropout1D\n",
        "from tensorflow.keras.preprocessing.sequence import pad_sequences\n",
        "from tensorflow.keras.preprocessing.text import Tokenizer\n",
        "from tensorflow.keras.preprocessing.sequence import pad_sequences\n",
        "from tensorflow.keras.callbacks import EarlyStopping\n",
        "from tensorflow.keras.layers import Dropout\n",
        "from tensorflow.keras.losses import binary_crossentropy \n",
        "from tensorflow_addons.metrics import F1Score\n",
        "from keras.initializers import Constant\n",
        "from tqdm import tqdm\n",
        "import matplotlib.pyplot as plt"
      ],
      "execution_count": null,
      "outputs": [
        {
          "output_type": "stream",
          "text": [
            "/usr/local/lib/python3.6/dist-packages/statsmodels/tools/_testing.py:19: FutureWarning: pandas.util.testing is deprecated. Use the functions in the public API at pandas.testing instead.\n",
            "  import pandas.util.testing as tm\n",
            "Using TensorFlow backend.\n"
          ],
          "name": "stderr"
        }
      ]
    },
    {
      "cell_type": "markdown",
      "metadata": {
        "id": "_q0TeV2Qps0n"
      },
      "source": [
        "L'objectif de notre projet est de classifier des tweets en deux catégories selon si ils font référence à des désastres ou non."
      ]
    },
    {
      "cell_type": "markdown",
      "metadata": {
        "id": "XZ9m2f4rBuaN"
      },
      "source": [
        "# 0. Les données\n",
        "\n"
      ]
    },
    {
      "cell_type": "markdown",
      "metadata": {
        "id": "9o1eN0HKBQvH"
      },
      "source": [
        "Commençons par charger les données que nous souhaitons étudier. Nous traiterons une base de données contenant des tweets. \n",
        "\n",
        "Commençons par charger nos données :"
      ]
    },
    {
      "cell_type": "code",
      "metadata": {
        "id": "wvv_7t3J9B-6",
        "colab": {
          "resources": {
            "http://localhost:8080/nbextensions/google.colab/files.js": {
              "data": "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",
              "ok": true,
              "headers": [
                [
                  "content-type",
                  "application/javascript"
                ]
              ],
              "status": 200,
              "status_text": "OK"
            }
          },
          "base_uri": "https://localhost:8080/",
          "height": 84
        },
        "outputId": "ba58dffd-57fe-4027-9eb8-6b1fbfee5741"
      },
      "source": [
        "train = files.upload()"
      ],
      "execution_count": null,
      "outputs": [
        {
          "output_type": "display_data",
          "data": {
            "text/html": [
              "\n",
              "     <input type=\"file\" id=\"files-cc9e3f73-70c7-4750-9109-00ac854bb55f\" name=\"files[]\" multiple disabled />\n",
              "     <output id=\"result-cc9e3f73-70c7-4750-9109-00ac854bb55f\">\n",
              "      Upload widget is only available when the cell has been executed in the\n",
              "      current browser session. Please rerun this cell to enable.\n",
              "      </output>\n",
              "      <script src=\"/nbextensions/google.colab/files.js\"></script> "
            ],
            "text/plain": [
              "<IPython.core.display.HTML object>"
            ]
          },
          "metadata": {
            "tags": []
          }
        },
        {
          "output_type": "stream",
          "text": [
            "Saving train.csv to train.csv\n"
          ],
          "name": "stdout"
        }
      ]
    },
    {
      "cell_type": "markdown",
      "metadata": {
        "id": "gjAiP_AyBV_d"
      },
      "source": [
        "On charge les données dans des data frames de pandas pour pouvoir les exploiter au mieux.\n"
      ]
    },
    {
      "cell_type": "code",
      "metadata": {
        "id": "-IVbZucQ-8UF"
      },
      "source": [
        "df_train = pd.read_csv(io.StringIO(train['train.csv'].decode('utf-8')))"
      ],
      "execution_count": null,
      "outputs": []
    },
    {
      "cell_type": "markdown",
      "metadata": {
        "id": "XU_oSDBlk4yr"
      },
      "source": [
        "Regardons rapidement de quoi sont composées nos données :"
      ]
    },
    {
      "cell_type": "code",
      "metadata": {
        "id": "dlLMpOTdKDz0",
        "colab": {
          "base_uri": "https://localhost:8080/",
          "height": 260
        },
        "outputId": "5a6bb430-a3c8-486a-fc09-5629adbd7752"
      },
      "source": [
        "df_train.head"
      ],
      "execution_count": null,
      "outputs": [
        {
          "output_type": "execute_result",
          "data": {
            "text/plain": [
              "<bound method NDFrame.head of          id keyword  ...                                               text target\n",
              "0         1     NaN  ...  Our Deeds are the Reason of this #earthquake M...      1\n",
              "1         4     NaN  ...             Forest fire near La Ronge Sask. Canada      1\n",
              "2         5     NaN  ...  All residents asked to 'shelter in place' are ...      1\n",
              "3         6     NaN  ...  13,000 people receive #wildfires evacuation or...      1\n",
              "4         7     NaN  ...  Just got sent this photo from Ruby #Alaska as ...      1\n",
              "...     ...     ...  ...                                                ...    ...\n",
              "7608  10869     NaN  ...  Two giant cranes holding a bridge collapse int...      1\n",
              "7609  10870     NaN  ...  @aria_ahrary @TheTawniest The out of control w...      1\n",
              "7610  10871     NaN  ...  M1.94 [01:04 UTC]?5km S of Volcano Hawaii. htt...      1\n",
              "7611  10872     NaN  ...  Police investigating after an e-bike collided ...      1\n",
              "7612  10873     NaN  ...  The Latest: More Homes Razed by Northern Calif...      1\n",
              "\n",
              "[7613 rows x 5 columns]>"
            ]
          },
          "metadata": {
            "tags": []
          },
          "execution_count": 4
        }
      ]
    },
    {
      "cell_type": "markdown",
      "metadata": {
        "id": "a74q_OBWMCAZ"
      },
      "source": [
        "Nos données comportent 4 colonnes. La première contient un identifiant unique du tweet (que nous ne traitons pas). La seconde contient un mot clé associé au tweet, ou bien la valeur NaN. La troisième contient le tweet à proprement parlé et la 4ème une valeur binaire qui indique si le tweet annonce une catastrophe qui s'est produite (valeur 1) ou si ce n'est pas le cas (valeur 0)."
      ]
    },
    {
      "cell_type": "markdown",
      "metadata": {
        "id": "rTFsJiNFBhLB"
      },
      "source": [
        "A titre d'exemple, montrons des tweets qui ne sont PAS des tweets de catastrophes :"
      ]
    },
    {
      "cell_type": "code",
      "metadata": {
        "id": "mey31Xxe_DIx",
        "colab": {
          "base_uri": "https://localhost:8080/",
          "height": 225
        },
        "outputId": "2999db76-c62e-4c43-96a3-06607dd0fd78"
      },
      "source": [
        "df_train[df_train.target == 0].text"
      ],
      "execution_count": null,
      "outputs": [
        {
          "output_type": "execute_result",
          "data": {
            "text/plain": [
              "15                                         What's up man?\n",
              "16                                          I love fruits\n",
              "17                                       Summer is lovely\n",
              "18                                      My car is so fast\n",
              "19                           What a goooooooaaaaaal!!!!!!\n",
              "                              ...                        \n",
              "7581    @engineshed Great atmosphere at the British Li...\n",
              "7582    Cramer: Iger's 3 words that wrecked Disney's s...\n",
              "7584    These boxes are ready to explode! Exploding Ki...\n",
              "7587                                   Sirens everywhere!\n",
              "7593    I just heard a really loud bang and everyone i...\n",
              "Name: text, Length: 4342, dtype: object"
            ]
          },
          "metadata": {
            "tags": []
          },
          "execution_count": 5
        }
      ]
    },
    {
      "cell_type": "markdown",
      "metadata": {
        "id": "WraDwaDcMhcY"
      },
      "source": [
        "On remarque rapidement que parmis les tweets qui ne parlent pas des catastrophes, certains sont évidents comme le premier tweet \"What's up man?\" et d'autres le sont moins comme le numéro 7593 qui commence par \"I just heard a really loud bang and everyone...\". "
      ]
    },
    {
      "cell_type": "markdown",
      "metadata": {
        "id": "dQ2euVNbk-L_"
      },
      "source": [
        "Pour pouvoir effectuer nos testes, nous allons découper nos données en $2$ ensembles d'entrainement et de validation, avec les proportions $80$ - $20$."
      ]
    },
    {
      "cell_type": "code",
      "metadata": {
        "id": "sjEYjCi73zIz"
      },
      "source": [
        "X_train, X_val, y_train, y_val = train_test_split(df_train[\"text\"], df_train[\"target\"], test_size=0.2, random_state=42)"
      ],
      "execution_count": null,
      "outputs": []
    },
    {
      "cell_type": "markdown",
      "metadata": {
        "id": "5qdMIy7kBpmi"
      },
      "source": [
        "# 1. Les premiers modèles\n",
        "\n"
      ]
    },
    {
      "cell_type": "markdown",
      "metadata": {
        "id": "dJCH-rBEVNxE"
      },
      "source": [
        "## Vectorisation des données \n"
      ]
    },
    {
      "cell_type": "markdown",
      "metadata": {
        "id": "VgOCFKbgVPxS"
      },
      "source": [
        "Nous allons implémenter des premiers modèles pour classifier nos tweets. Nous allons vectoriser dans un premier temsp nos tweets en utilisant des modèles de types \"Bag Of Words\" qui retirent l'ordre des mots d'un tweet pour ne se concentrer que sur l'occurence des mots dans le tweet ainsi que dans le corpus qui le contient. \n",
        "Plus d'information sur le modèle Bag Of Words [ici](https://www.researchgate.net/publication/226525014_Understanding_bag-of-words_model_A_statistical_framework) "
      ]
    },
    {
      "cell_type": "markdown",
      "metadata": {
        "id": "gMkY92wTlaij"
      },
      "source": [
        "Commençons par extraire les features et changer la représentation de nos bases de données. Nos tweets, des chaines de caractères, sont transformés en une représentation vectorielle dans train_vectors et test_vectors en utilisant les méthodes CountVectorizer et TfidVectorizer. Nous détaillerons ces méthodes dans la suite du document. Nous mentionnons seulement à ce stade que TfidVectorizer est une version améliorée de CountVectorizer, et qu'ils permettent de transformer une chaine de caractères en un vecteur de réels."
      ]
    },
    {
      "cell_type": "code",
      "metadata": {
        "id": "KaWIUPL21vA_"
      },
      "source": [
        "### Fonction d'affichage de la matrice de confusion ###\n",
        "def plot_cm(y_true, y_pred, title, figsize=(5,5)):\n",
        "    \"\"\" Fonction d'affichage de la matrice de confusion \"\"\"\n",
        "    cm = confusion_matrix(y_true, y_pred, labels=np.unique(y_true))\n",
        "    cm_sum = np.sum(cm, axis=1, keepdims=True)\n",
        "    cm_perc = cm / cm_sum.astype(float) * 100\n",
        "    annot = np.empty_like(cm).astype(str)\n",
        "    nrows, ncols = cm.shape\n",
        "    for i in range(nrows):\n",
        "        for j in range(ncols):\n",
        "            c = cm[i, j]\n",
        "            p = cm_perc[i, j]\n",
        "            if i == j:\n",
        "                s = cm_sum[i]\n",
        "                annot[i, j] = '%.1f%%\\n%d/%d' % (p, c, s)\n",
        "            elif c == 0:\n",
        "                annot[i, j] = ''\n",
        "            else:\n",
        "                annot[i, j] = '%.1f%%\\n%d' % (p, c)\n",
        "    cm = pd.DataFrame(cm, index=np.unique(y_true), columns=np.unique(y_true))\n",
        "    cm.index.name = 'Actual'\n",
        "    cm.columns.name = 'Predicted'\n",
        "    fig, ax = plt.subplots(figsize=figsize)\n",
        "    plt.title(title)\n",
        "    sns.heatmap(cm, cmap= \"YlGnBu\", annot=annot, fmt='', ax=ax)"
      ],
      "execution_count": null,
      "outputs": []
    },
    {
      "cell_type": "code",
      "metadata": {
        "id": "VCaPbb4fAg_m"
      },
      "source": [
        "### On vectorise nos données d'entrée ###\n",
        "count_vectorizer = CountVectorizer()\n",
        "train_vectors = count_vectorizer.fit_transform(X_train)\n",
        "test_vectors = count_vectorizer.transform(X_val)\n",
        "\n",
        "tfid_vectorizer = TfidfVectorizer()\n",
        "tfid_vectorizer.fit(X_train)\n",
        "train_vectors_tfid = tfid_vectorizer.transform(X_train)\n",
        "val_vectors_tfid = tfid_vectorizer.transform(X_val)"
      ],
      "execution_count": null,
      "outputs": []
    },
    {
      "cell_type": "markdown",
      "metadata": {
        "id": "DrRuB8s2VT0R"
      },
      "source": [
        "## Ridge Classification"
      ]
    },
    {
      "cell_type": "markdown",
      "metadata": {
        "id": "_1DYI3yTC-gq"
      },
      "source": [
        "Construisons un modèle de régression linéaire simple, celui de Ridge avec une pénalisation L2 pour commencer à classifer notre corpus. Ce modèle est simple et rapidement entrainable avec une pénalisation L2 ce qui a motivé notre choix. On trouve un fonctionnement détaillé de l'algorithme [ici](https://amstat.tandfonline.com/doi/ref/10.1080/00401706.1970.10488634?scroll=top#.XsOprhY6_JF) "
      ]
    },
    {
      "cell_type": "code",
      "metadata": {
        "id": "7_chIZaECNFH"
      },
      "source": [
        "### On entraine notre classifier Ridge ###\n",
        "clf_ridge = linear_model.RidgeClassifier(alpha=1)"
      ],
      "execution_count": null,
      "outputs": []
    },
    {
      "cell_type": "code",
      "metadata": {
        "id": "Vrucp4DbCZI-",
        "colab": {
          "base_uri": "https://localhost:8080/",
          "height": 34
        },
        "outputId": "c91ef5c8-b5a5-49b1-8fc0-9e1ab671fb78"
      },
      "source": [
        "### On affiche l'accuracy avec entrainement sur les features CountVectorizer ###\n",
        "scores = cross_val_score(clf_ridge, train_vectors, y_train, cv=2, scoring=\"accuracy\")\n",
        "scores.mean()"
      ],
      "execution_count": null,
      "outputs": [
        {
          "output_type": "execute_result",
          "data": {
            "text/plain": [
              "0.7627257799671593"
            ]
          },
          "metadata": {
            "tags": []
          },
          "execution_count": 10
        }
      ]
    },
    {
      "cell_type": "code",
      "metadata": {
        "id": "osEpr0nCUggP",
        "colab": {
          "base_uri": "https://localhost:8080/",
          "height": 34
        },
        "outputId": "0f7634ec-7190-4511-84fc-4724e278a011"
      },
      "source": [
        "### On affiche l'accuracy avec entrainement sur les features TfidVectorizer ###\n",
        "scores_tfid = cross_val_score(clf_ridge, train_vectors_tfid, y_train, cv=2, scoring=\"accuracy\")\n",
        "scores_tfid.mean()"
      ],
      "execution_count": null,
      "outputs": [
        {
          "output_type": "execute_result",
          "data": {
            "text/plain": [
              "0.7883415435139574"
            ]
          },
          "metadata": {
            "tags": []
          },
          "execution_count": 11
        }
      ]
    },
    {
      "cell_type": "code",
      "metadata": {
        "id": "vlywAGayWFsj",
        "colab": {
          "base_uri": "https://localhost:8080/",
          "height": 350
        },
        "outputId": "255dee72-9f56-483d-9803-48cf2b527498"
      },
      "source": [
        "### On affiche la matrice de confusion ###\n",
        "clf_ridge = linear_model.RidgeClassifier(alpha=1.606)\n",
        "clf_ridge.fit(train_vectors_tfid, y_train)\n",
        "plot_cm(y_val,clf_ridge.predict(val_vectors_tfid),\"Matrice de Confusion\")"
      ],
      "execution_count": null,
      "outputs": [
        {
          "output_type": "display_data",
          "data": {
            "image/png": "[encoded data removed]",
            "text/plain": [
              "<Figure size 360x360 with 2 Axes>"
            ]
          },
          "metadata": {
            "tags": [],
            "needs_background": "light"
          }
        }
      ]
    },
    {
      "cell_type": "markdown",
      "metadata": {
        "id": "Rhy7AOBGUceF"
      },
      "source": [
        "Etudions maintenant les résultats que nous obtenons. Nous trouvons une précision de 76-78% avec ce modèle sur nos données. Nous remarquons que cette algorithme prédit mieux les tweets qui ne sont **PAS** des catastrophes que les autres au vu de la matrice de confusion. Dans l'ensemble cette algorithme semble très performant pour un premier départ au vu de notre base de données. Il nous reste maintenant à adapter notre paramètre $\\alpha$ pour rendre l'algorithme plus performant."
      ]
    },
    {
      "cell_type": "markdown",
      "metadata": {
        "id": "VlFydA3GVaUI"
      },
      "source": [
        "## Boosting trees"
      ]
    },
    {
      "cell_type": "markdown",
      "metadata": {
        "id": "mjgxRkaFJq5T"
      },
      "source": [
        "On propose maintenant un second modèle qui se base sur une forêt d'arbres de décision que l'on améliore avec une technique de boosting. On retrouve un fonctionnement détaillé de l'algorithme [ici](http://papers.nips.cc/paper/1059-boosting-decision-trees.pdf). L'idée sous-jacente est d'optimiser plusieurs arbres de décision tel que le dernier arbre optimisé prenne en compte les erreurs de l'arbre d'avant. On peut pour cela augmenter le nombre d'arbres dans le processus en faisant varier n_estimators. Plus ce nombre est grand, plus on devrait obtenir de bons résultats (et plus l'algorithme prendra du temps à s'exécuter)."
      ]
    },
    {
      "cell_type": "code",
      "metadata": {
        "id": "G27FhMz0D9TW"
      },
      "source": [
        "### On entraine noter AdaBoost sur arbres de décisiosn ###\n",
        "clf_adatree = AdaBoostClassifier(DecisionTreeClassifier(max_depth=100, max_features = \"sqrt\"),\n",
        "                          n_estimators=100, random_state=np.random.RandomState(0))"
      ],
      "execution_count": null,
      "outputs": []
    },
    {
      "cell_type": "code",
      "metadata": {
        "id": "OEHTlV2eJwDq",
        "colab": {
          "base_uri": "https://localhost:8080/",
          "height": 34
        },
        "outputId": "2db6eff6-ed82-4ba0-c34a-41b094610af9"
      },
      "source": [
        "### On affiche l'accuracy avec entrainement sur les features CountVectorizer ###\n",
        "scores = cross_val_score(clf_adatree, train_vectors, y_train, cv=2, scoring=\"accuracy\")\n",
        "scores.mean()"
      ],
      "execution_count": null,
      "outputs": [
        {
          "output_type": "execute_result",
          "data": {
            "text/plain": [
              "0.7280788177339901"
            ]
          },
          "metadata": {
            "tags": []
          },
          "execution_count": 14
        }
      ]
    },
    {
      "cell_type": "code",
      "metadata": {
        "id": "VBPtqai-Unpb",
        "colab": {
          "base_uri": "https://localhost:8080/",
          "height": 34
        },
        "outputId": "6bf2b378-3153-4e24-df10-cd1a8b4898ea"
      },
      "source": [
        "### On affiche l'accuracy avec entrainement sur les features TfidVectorizer ###\n",
        "scores_tfid = cross_val_score(clf_adatree, train_vectors_tfid, y_train, cv=2, scoring=\"accuracy\")\n",
        "scores_tfid.mean()"
      ],
      "execution_count": null,
      "outputs": [
        {
          "output_type": "execute_result",
          "data": {
            "text/plain": [
              "0.7073891625615764"
            ]
          },
          "metadata": {
            "tags": []
          },
          "execution_count": 15
        }
      ]
    },
    {
      "cell_type": "code",
      "metadata": {
        "id": "w2hc9xUa2uam",
        "colab": {
          "base_uri": "https://localhost:8080/",
          "height": 350
        },
        "outputId": "5f882f94-4d6a-42f1-dbec-60fd8e5e123f"
      },
      "source": [
        "### On affiche la matrice de confusion ###\n",
        "clf_adatree = AdaBoostClassifier(DecisionTreeClassifier(max_depth=100, max_features = \"sqrt\"),\n",
        "                          n_estimators=100, random_state=np.random.RandomState(0))\n",
        "clf_adatree.fit(train_vectors_tfid, y_train)\n",
        "plot_cm(y_val,clf_adatree.predict(val_vectors_tfid),\"Matrice de Confusion\")"
      ],
      "execution_count": null,
      "outputs": [
        {
          "output_type": "display_data",
          "data": {
            "image/png": "[encoded data removed]",
            "text/plain": [
              "<Figure size 360x360 with 2 Axes>"
            ]
          },
          "metadata": {
            "tags": [],
            "needs_background": "light"
          }
        }
      ]
    },
    {
      "cell_type": "markdown",
      "metadata": {
        "id": "pLhQp7WHnZxG"
      },
      "source": [
        "Les performances de l'algorithme sont correctes mais une amélioration des résultats nécessiteraient d'augmenter le nombre d'arbre à considérer, ce que nous ne souhaitons pas effectuer au vu du temps de calcul assez long. On remarque encore une fois que l'algorithme à plus de difficultés à prédire les tweets de catastrophes que ceux qui n'en sont pas."
      ]
    },
    {
      "cell_type": "markdown",
      "metadata": {
        "id": "lbwPzQyRfweY"
      },
      "source": [
        "## Machine à noyau"
      ]
    },
    {
      "cell_type": "markdown",
      "metadata": {
        "id": "AOUVcf0kMRMy"
      },
      "source": [
        "On propose un troisième modèle qui utilise les machines à noyaux, aussi connu sous le nom de KSVM. On prend par défaut un noyau Gaussien en se fixant notre paramètre $\\gamma$ et on optimise le paramètre de bandes $C$ dont dépend notre noyau. Plus d'informations sur l'algorithme [ici](https://link.springer.com/article/10.1007/s10462-005-9009-3). L'idée sous-jacente est de projeter nos données dans un espace de features de dimension plus élevée pour pouvoir ensuite les séparer, et donc les classifier."
      ]
    },
    {
      "cell_type": "code",
      "metadata": {
        "id": "4EuevQYlKqK4"
      },
      "source": [
        "### On entraine notre KSVM avec noyau gaussien ###\n",
        "clf_svm = SVC(C=1, kernel=\"rbf\", gamma = \"scale\", random_state = 1)"
      ],
      "execution_count": null,
      "outputs": []
    },
    {
      "cell_type": "code",
      "metadata": {
        "id": "YnZw2YJiMMRF",
        "colab": {
          "base_uri": "https://localhost:8080/",
          "height": 34
        },
        "outputId": "cbbced5d-28b5-4397-c64e-0bec1c46f56e"
      },
      "source": [
        "### On affiche l'accuracy avec entrainement sur les features CountVectorizer ###\n",
        "scores = cross_val_score(clf_svm, train_vectors, y_train, cv=2, scoring=\"accuracy\")\n",
        "scores.mean()"
      ],
      "execution_count": null,
      "outputs": [
        {
          "output_type": "execute_result",
          "data": {
            "text/plain": [
              "0.7747126436781608"
            ]
          },
          "metadata": {
            "tags": []
          },
          "execution_count": 18
        }
      ]
    },
    {
      "cell_type": "code",
      "metadata": {
        "id": "l4Te3tXNU5S8",
        "colab": {
          "base_uri": "https://localhost:8080/",
          "height": 34
        },
        "outputId": "6eff9a5b-a32f-4be7-bcb6-3612294cdf38"
      },
      "source": [
        "### On affiche l'accuracy avec entrainement sur les features TfidVectorizer ###\n",
        "scores_tfid = cross_val_score(clf_svm, train_vectors_tfid, y_train, cv=2, scoring=\"accuracy\")\n",
        "scores_tfid.mean()"
      ],
      "execution_count": null,
      "outputs": [
        {
          "output_type": "execute_result",
          "data": {
            "text/plain": [
              "0.7798029556650246"
            ]
          },
          "metadata": {
            "tags": []
          },
          "execution_count": 19
        }
      ]
    },
    {
      "cell_type": "code",
      "metadata": {
        "id": "nH2PT61f3_JL",
        "colab": {
          "base_uri": "https://localhost:8080/",
          "height": 350
        },
        "outputId": "e88e1b2a-88fc-451a-9146-4f0467438e70"
      },
      "source": [
        "### On affiche la matrice de confusion ###\n",
        "clf_svm = SVC(C=1, kernel=\"rbf\", gamma = \"scale\", random_state = 1)\n",
        "clf_svm.fit(train_vectors_tfid, y_train)\n",
        "plot_cm(y_val,clf_svm.predict(val_vectors_tfid),\"Matrice de Confusion\")"
      ],
      "execution_count": null,
      "outputs": [
        {
          "output_type": "display_data",
          "data": {
            "image/png": "[encoded data removed]",
            "text/plain": [
              "<Figure size 360x360 with 2 Axes>"
            ]
          },
          "metadata": {
            "tags": [],
            "needs_background": "light"
          }
        }
      ]
    },
    {
      "cell_type": "markdown",
      "metadata": {
        "id": "Vzfi1WxTnNs6"
      },
      "source": [
        "Les résultats sont globalements satisfaisants mais peuvent être améliorés en trouvant de bons paramètres $C$ ainsi que $\\gamma$ adéquats. Encore une fois, l'aspect de la matrice de confusion est similaire aux 2 autres."
      ]
    },
    {
      "cell_type": "markdown",
      "metadata": {
        "id": "fG2U9lBSgWEE"
      },
      "source": [
        "## Random Forest"
      ]
    },
    {
      "cell_type": "markdown",
      "metadata": {
        "id": "X2vEHm5qN-Q7"
      },
      "source": [
        "On propose enfin une forêt aléatoire pour résoudre le problème de classification. L'idée de base de cette méthode consiste à prendre plusieurs arbres de décision que l'on entraine en parallèle et de les faire voter pour définir le label d'un tweet. On peut trouver plus d'informations sur l'algorithme et sur le nombre d'arbres à considérer [ici](https://www.researchgate.net/profile/Jose_Baranauskas/publication/230766603_How_Many_Trees_in_a_Random_Forest/links/0912f5040fb35357a1000000/How-Many-Trees-in-a-Random-Forest.pdf)."
      ]
    },
    {
      "cell_type": "code",
      "metadata": {
        "id": "GW2Chs5fM_-m"
      },
      "source": [
        "### On entraine notre Random Forest ###\n",
        "clf_forest = RandomForestClassifier(n_estimators=4096, criterion=\"entropy\", max_depth=10)"
      ],
      "execution_count": null,
      "outputs": []
    },
    {
      "cell_type": "code",
      "metadata": {
        "id": "f-duQNQvOrc_",
        "colab": {
          "base_uri": "https://localhost:8080/",
          "height": 34
        },
        "outputId": "5261b082-e06f-4e95-e6e5-6ebe6489acc0"
      },
      "source": [
        "### On affiche l'accuracy avec entrainement sur les features CountVectorizer ###\n",
        "scores = cross_val_score(clf_forest, train_vectors, y_train, cv=2, scoring=\"accuracy\")\n",
        "scores.mean()"
      ],
      "execution_count": null,
      "outputs": [
        {
          "output_type": "execute_result",
          "data": {
            "text/plain": [
              "0.645320197044335"
            ]
          },
          "metadata": {
            "tags": []
          },
          "execution_count": 22
        }
      ]
    },
    {
      "cell_type": "code",
      "metadata": {
        "id": "bEw8kQySPpg4",
        "colab": {
          "base_uri": "https://localhost:8080/",
          "height": 34
        },
        "outputId": "ab4c74d8-28f3-4097-917b-106a4edd537f"
      },
      "source": [
        "### On affiche l'accuracy avec entrainement sur les features TfidVectorizer ###\n",
        "scores_tfid = cross_val_score(clf_forest, train_vectors_tfid, y_train, cv=2, scoring=\"accuracy\")\n",
        "scores_tfid.mean()"
      ],
      "execution_count": null,
      "outputs": [
        {
          "output_type": "execute_result",
          "data": {
            "text/plain": [
              "0.6456486042692939"
            ]
          },
          "metadata": {
            "tags": []
          },
          "execution_count": 23
        }
      ]
    },
    {
      "cell_type": "code",
      "metadata": {
        "id": "fgppuozo4oxZ",
        "colab": {
          "base_uri": "https://localhost:8080/",
          "height": 350
        },
        "outputId": "f292db52-111e-4280-a538-d72258f9178a"
      },
      "source": [
        "### On affiche la matrice de confusion ###\n",
        "clf_forest = RandomForestClassifier(n_estimators=4096, criterion=\"entropy\", max_depth=10)\n",
        "clf_forest.fit(train_vectors_tfid, y_train)\n",
        "plot_cm(y_val,clf_forest.predict(val_vectors_tfid),\"Matrice de Confusion\")"
      ],
      "execution_count": null,
      "outputs": [
        {
          "output_type": "display_data",
          "data": {
            "image/png": "[encoded data removed]",
            "text/plain": [
              "<Figure size 360x360 with 2 Axes>"
            ]
          },
          "metadata": {
            "tags": [],
            "needs_background": "light"
          }
        }
      ]
    },
    {
      "cell_type": "markdown",
      "metadata": {
        "id": "Lar8p6Vmmpaa"
      },
      "source": [
        "Les résultats ne sont pas aussi bons que ceux évoqués au début de notre partie. En particulier, cette méthode apprend très bien à classifier les tweets qui ne sont pas des catastrophes  mais peine véritablement à bien classer ceux qui en sont. Le seul moyen d'améliorer les performances de cette algorithme serait d'augmenter la profondeur maximum de chaque arbre ainsi que le nombre d'arbres, ce qui augmente considérablement le temps de calcul. Nous ne chercherons plus dans la suite à améliorer cet algorithme."
      ]
    },
    {
      "cell_type": "markdown",
      "metadata": {
        "id": "k9PMJmJJoAMt"
      },
      "source": [
        "## Conclusion sur les modèles"
      ]
    },
    {
      "cell_type": "markdown",
      "metadata": {
        "id": "Xv9eKYhCoC7V"
      },
      "source": [
        "On remarque que nos modèles performent relativement bien sur notre base de données, bien qu'il semble nécéssaire d'améliorer les paramètres associés. Nous nous intéréssons dans la suite à une procédure d'optimisation des hyperparamètres pour deux de nos modèles, les machines à noyaux ainsi que la régression linéaire pénalisée.\n",
        "\n",
        "Nous remarquons également que les algorithmes sont plus performants sur des features extraites avec la technique TF-IDF utilisée avec Tfidvectorize qu'avec notre première méthode Countvectorizer. Nous décidons donc d'optimiser nos paramètres sur des features extraites avec TF-IDF dans la prochaine partie."
      ]
    },
    {
      "cell_type": "markdown",
      "metadata": {
        "id": "oAAYRIiwgE80"
      },
      "source": [
        "#2. Tuning de nos modèles\n"
      ]
    },
    {
      "cell_type": "markdown",
      "metadata": {
        "id": "zZZs4ukygIsr"
      },
      "source": [
        "## Tuning de Ridge"
      ]
    },
    {
      "cell_type": "markdown",
      "metadata": {
        "id": "V-R07115XJv2"
      },
      "source": [
        "On se concentre maintenant sur la regression linéaire qui a l'avantage d'être assez rapide. On considère alors la pénalisation L2 qui possède une formule explicite et donc un temps de calcul quasi instantané. On procède par gridsearch."
      ]
    },
    {
      "cell_type": "code",
      "metadata": {
        "id": "cyLriVntYFh6",
        "colab": {
          "base_uri": "https://localhost:8080/",
          "height": 34
        },
        "outputId": "9bacc188-e65b-411c-fbbd-8f23fc5a9aa8"
      },
      "source": [
        "parameters = {'alpha':np.arange(0.5,20,0.1)}\n",
        "ridge = linear_model.RidgeClassifier()\n",
        "grid_ridge = GridSearchCV(ridge, parameters, scoring=\"accuracy\", cv=2)\n",
        "grid_ridge.fit(train_vectors_tfid, y_train)\n",
        "print(\"Le meilleur paramètre est {} pour une précision de {}\".format(grid_ridge.best_params_,grid_ridge.best_score_))"
      ],
      "execution_count": null,
      "outputs": [
        {
          "output_type": "stream",
          "text": [
            "Le meilleur paramètre est {'alpha': 1.0999999999999999} pour une précision de 0.7885057471264367\n"
          ],
          "name": "stdout"
        }
      ]
    },
    {
      "cell_type": "markdown",
      "metadata": {
        "id": "LjTzxsYnZQo6"
      },
      "source": [
        "On quadrille la meilleure régularisation possible en réduisant l'ensemble des valeurs."
      ]
    },
    {
      "cell_type": "code",
      "metadata": {
        "id": "AGy-fp35ZhdO",
        "colab": {
          "base_uri": "https://localhost:8080/",
          "height": 34
        },
        "outputId": "c0989fc0-1969-4482-a527-c60b47a9488a"
      },
      "source": [
        "parameters = {'alpha':np.arange(0.5,1,0.001)}\n",
        "ridge = linear_model.RidgeClassifier()\n",
        "grid_ridge = GridSearchCV(ridge, parameters, scoring=\"accuracy\", cv=2)\n",
        "grid_ridge.fit(train_vectors_tfid, y_train)\n",
        "print(\"Le meilleur paramètre est {} pour une précision de {}\".format(grid_ridge.best_params_,grid_ridge.best_score_))"
      ],
      "execution_count": null,
      "outputs": [
        {
          "output_type": "stream",
          "text": [
            "Le meilleur paramètre est {'alpha': 0.9630000000000004} pour une précision de 0.7886699507389163\n"
          ],
          "name": "stdout"
        }
      ]
    },
    {
      "cell_type": "markdown",
      "metadata": {
        "id": "We4XqFa7Z8zw"
      },
      "source": [
        "Le meilleur ridge est à priori avec une pénalisation de 0.963 ! Vérifions cela sur nos données de validation."
      ]
    },
    {
      "cell_type": "code",
      "metadata": {
        "id": "WOKL-_oJuLVu",
        "colab": {
          "base_uri": "https://localhost:8080/",
          "height": 34
        },
        "outputId": "cb6e3106-cff4-49b3-bb76-081197043441"
      },
      "source": [
        "### On entraine notre classifier Ridge ###\n",
        "clf_ridge = linear_model.RidgeClassifier(alpha=0.541)\n",
        "clf_ridge.fit(train_vectors_tfid, y_train)\n",
        "print(\"L'accuracy sur les données de validations est : \",accuracy_score(clf_ridge.predict(val_vectors_tfid), y_val))"
      ],
      "execution_count": null,
      "outputs": [
        {
          "output_type": "stream",
          "text": [
            "L'accuracy sur les données de validations est :  0.7984241628365069\n"
          ],
          "name": "stdout"
        }
      ]
    },
    {
      "cell_type": "code",
      "metadata": {
        "id": "CEobKlCV5iMJ",
        "colab": {
          "base_uri": "https://localhost:8080/",
          "height": 350
        },
        "outputId": "ba6ab132-1b3d-408d-ef69-aca3265cb856"
      },
      "source": [
        "### On affiche la matrice de confusion ###\n",
        "clf_ridge = linear_model.RidgeClassifier(alpha=1.606)\n",
        "clf_ridge.fit(train_vectors_tfid, y_train)\n",
        "plot_cm(y_val,clf_ridge.predict(val_vectors_tfid),\"Matrice de Confusion\")"
      ],
      "execution_count": null,
      "outputs": [
        {
          "output_type": "display_data",
          "data": {
            "image/png": "[encoded data removed]",
            "text/plain": [
              "<Figure size 360x360 with 2 Axes>"
            ]
          },
          "metadata": {
            "tags": [],
            "needs_background": "light"
          }
        }
      ]
    },
    {
      "cell_type": "markdown",
      "metadata": {
        "id": "f5G7wVHJ2eBc"
      },
      "source": [
        "## Tunning des machines à noyaux"
      ]
    },
    {
      "cell_type": "markdown",
      "metadata": {
        "id": "EXI0Nrf64OF6"
      },
      "source": [
        "On suit le même procédé que dans la partie précédente pour trouver les paramètres optimaux de notre machine à noyau."
      ]
    },
    {
      "cell_type": "code",
      "metadata": {
        "id": "ukvNgVwDf-oO",
        "colab": {
          "base_uri": "https://localhost:8080/",
          "height": 34
        },
        "outputId": "d6c48127-fdfe-4d36-cd79-4d5076fb4fda"
      },
      "source": [
        "parameters = {'C':np.arange(0.5,5,0.5)}\n",
        "svm = SVC(kernel=\"rbf\", gamma = \"scale\", random_state = 1)\n",
        "grid_svc = GridSearchCV(svm, parameters, scoring=\"accuracy\", cv=2)\n",
        "grid_svc.fit(train_vectors_tfid, y_train)\n",
        "print(\"Le meilleur paramètre est {} pour une précision de {}\".format(grid_svc.best_params_,grid_svc.best_score_))"
      ],
      "execution_count": null,
      "outputs": [
        {
          "output_type": "stream",
          "text": [
            "Le meilleur paramètre est {'C': 1.5} pour une précision de 0.7852216748768472\n"
          ],
          "name": "stdout"
        }
      ]
    },
    {
      "cell_type": "markdown",
      "metadata": {
        "id": "WNAjBDTS4a0j"
      },
      "source": [
        "On quadrille de manière plus précise la zone à parcourir."
      ]
    },
    {
      "cell_type": "code",
      "metadata": {
        "id": "8RtSANhT3ZfK",
        "colab": {
          "base_uri": "https://localhost:8080/",
          "height": 34
        },
        "outputId": "f47adb76-1c7d-438f-f797-1d55f435cdc2"
      },
      "source": [
        "parameters = {'C':np.arange(1.4,1.6,0.025)}\n",
        "svm = SVC(kernel=\"rbf\", gamma = \"scale\", random_state = 1)\n",
        "grid_svc = GridSearchCV(svm, parameters, scoring=\"accuracy\", cv=2)\n",
        "grid_svc.fit(train_vectors_tfid, y_train)\n",
        "print(\"Le meilleur paramètre est {} pour une précision de {}\".format(grid_svc.best_params_,grid_svc.best_score_))"
      ],
      "execution_count": null,
      "outputs": [
        {
          "output_type": "stream",
          "text": [
            "Le meilleur paramètre est {'C': 1.5499999999999994} pour une précision de 0.7853858784893268\n"
          ],
          "name": "stdout"
        }
      ]
    },
    {
      "cell_type": "markdown",
      "metadata": {
        "id": "s4igSzHK4eEe"
      },
      "source": [
        "Le meilleur paramètre $C$ est ainsi donné pour $C = 1.55$. Vérifions que ce paramètre nous permet d'obtenir une bonne précision sur les données de validation :"
      ]
    },
    {
      "cell_type": "code",
      "metadata": {
        "id": "1kC_5DQi4gjw",
        "colab": {
          "base_uri": "https://localhost:8080/",
          "height": 34
        },
        "outputId": "9c7a1d4f-ca42-4e1f-90c4-0e030a82131c"
      },
      "source": [
        "### On entraine notre classifier Ridge ###\n",
        "clf_svm = SVC(C = 1.55,kernel=\"rbf\", gamma = \"scale\", random_state = 1)\n",
        "clf_svm.fit(train_vectors_tfid, y_train)\n",
        "print(\"L'accuracy sur les données de validation est : \",accuracy_score(clf_svm.predict(val_vectors_tfid), y_val))"
      ],
      "execution_count": null,
      "outputs": [
        {
          "output_type": "stream",
          "text": [
            "L'accuracy sur les données de validations est :  0.8023637557452397\n"
          ],
          "name": "stdout"
        }
      ]
    },
    {
      "cell_type": "code",
      "metadata": {
        "id": "KV7EKHOb6x4S",
        "colab": {
          "base_uri": "https://localhost:8080/",
          "height": 350
        },
        "outputId": "8827aa1d-e4ea-41f8-f65c-6da0594a6ccc"
      },
      "source": [
        "### On affiche la matrice de confusion ###\n",
        "clf_svm = SVC(C = 1.55,kernel=\"rbf\", gamma = \"scale\", random_state = 1)\n",
        "clf_svm.fit(train_vectors_tfid, y_train)\n",
        "plot_cm(y_val,clf_svm.predict(val_vectors_tfid),\"Matrice de Confusion\")"
      ],
      "execution_count": null,
      "outputs": [
        {
          "output_type": "display_data",
          "data": {
            "image/png": "[encoded data removed]",
            "text/plain": [
              "<Figure size 360x360 with 2 Axes>"
            ]
          },
          "metadata": {
            "tags": [],
            "needs_background": "light"
          }
        }
      ]
    },
    {
      "cell_type": "markdown",
      "metadata": {
        "id": "BQGvbRS0EE-4"
      },
      "source": [
        "## Conclusion sur les modèles "
      ]
    },
    {
      "cell_type": "markdown",
      "metadata": {
        "id": "W_C4BtEEEZjk"
      },
      "source": [
        "On remarque après avoir optimisé nos paramètres qu'on atteint une accuracy d'environ 80% maximum sur nos données. Cette précision ne tient pas compte de la façon dont nous extrayons les features et d'un quelconque nettoyage de la base de données que nous pourrions faire en amont. Nous verrons dans la prochaine partie que nous pouvons nettoyer la base de données pour réduire la taille du corpus d'apprentissage (et ainsi accélérer la phase d'apprentissage) mais également lui donner plus de sémantique. On peut privilégier un algorithme par rapport à l'autre en se demandant si notre priorité est de bien classer (en moyenne) les tweets qui sont des catastrophes, ou ceux qui n'en sont pas."
      ]
    },
    {
      "cell_type": "markdown",
      "metadata": {
        "id": "uG35OPr7VqMU"
      },
      "source": [
        "# 3. Extraction de features"
      ]
    },
    {
      "cell_type": "markdown",
      "metadata": {
        "id": "jXmEnXIhVx7z"
      },
      "source": [
        "Nous avons pour le moment utilisé deux modèles d'extraction de features que sont le **TF-IDF** qui pondèrent les mots du corpus (= ensemble de Tweets) en fonction de leur présence dans le corpus (TF pour Term Frequency) mais également du nombre de documents (= tweets) qui contiennent ce mot. La deuxième méthode, plus naïve, consiste uniquement à compter le nombre de représentants de chaque mot dans un corpus de texte. C'est donc une sous-méthode de TF-IDF. On peut retrouver plus d'informations sur TF-IDF [ici](https://0bc297c6-a-62cb3a1a-s-sites.googlegroups.com/site/caonmsu/ir/UsingTFIDFtoDetermineWordRelevanceinDocumentQueries.pdf?attachauth=ANoY7cofWF9JkPufNN2DDKkGGZ_aPdTugJDfwnXDgrw_nQUb7x7_SeOYZuQppFLARrOgMMl263LOCfiHBYorktnCXjDpaaOXMWGak0nxMjumRQ3RQEaOktWA4qxmXB-3r7pRIAcAxP_nUeLNyPYk3oKySzQ2lvRPYTWn4Av5luRHTPUj_Kb16yP9OdaCpyJKz4LUN5Jg1_r3_9FP_UFuCOb1HoT_4nmx2sFrvBC1jJ4m7OaCVO70pMDIZTiJ7FzYl6ZkCkBudTPH01R7vEmA4ZaRzVs0KUa-sw%3D%3D&attredirects=0)."
      ]
    },
    {
      "cell_type": "code",
      "metadata": {
        "id": "8j5m7AsQYO6-",
        "colab": {
          "base_uri": "https://localhost:8080/",
          "height": 50
        },
        "outputId": "64ac000e-8ad2-43df-a042-ecdfaab3081f"
      },
      "source": [
        "### Extraction du corpus de mots sur les 5 premiers tweets ###\n",
        "vect =  CountVectorizer()\n",
        "vect.fit_transform(X_train[:5])"
      ],
      "execution_count": null,
      "outputs": [
        {
          "output_type": "execute_result",
          "data": {
            "text/plain": [
              "<5x75 sparse matrix of type '<class 'numpy.int64'>'\n",
              "\twith 83 stored elements in Compressed Sparse Row format>"
            ]
          },
          "metadata": {
            "tags": []
          },
          "execution_count": 33
        }
      ]
    },
    {
      "cell_type": "code",
      "metadata": {
        "id": "3J_Fq5rsYcnQ",
        "colab": {
          "base_uri": "https://localhost:8080/",
          "height": 54
        },
        "outputId": "fc72eb06-7eab-42c8-a801-2a2916730603"
      },
      "source": [
        "### Affichage du corpus sur les 5 premiers tweets ###\n",
        "print(vect.get_feature_names()[:20])"
      ],
      "execution_count": null,
      "outputs": [
        {
          "output_type": "stream",
          "text": [
            "['1945', '670thescore', 'about', 'affect', 'alifaditha', 'amp', 'analysis', 'and', 'at', 'atomic', 'barackobama', 'became', 'blast', 'bomb', 'boycottbears', 'ca', 'cart', 'co', 'courageous', 'dampen']\n"
          ],
          "name": "stdout"
        }
      ]
    },
    {
      "cell_type": "markdown",
      "metadata": {
        "id": "eqXwI1BuZSE2"
      },
      "source": [
        "Si l'on récupère les mots du corpus utilisés par cette méthode en ne considérant que les 5 premiers tweets on remarque que quasiment tous les mots ont un sens. On remarque cependant des \"mots\" comme \"alifaditha\" ou \"boycottbears\" qui semblent dénués de sens, et ce phénomène s'amplifie lorsqu'on regarde le corpus de tweet entier. Ceci est compréhensible : des liens / des mentions à d'autres utilisateurs ou des #hashtag peuvent être présents dans la base de données. Il est alors nécéssaire de nettoyer la base pour obtenir un corpus plus riche de sens. "
      ]
    },
    {
      "cell_type": "markdown",
      "metadata": {
        "id": "RNvDwv9Vt5I8"
      },
      "source": [
        "## Filtrer les liens"
      ]
    },
    {
      "cell_type": "code",
      "metadata": {
        "id": "6blrT3B0jAGi",
        "colab": {
          "base_uri": "https://localhost:8080/",
          "height": 34
        },
        "outputId": "0c01a3e4-af27-4126-e2e7-bed3a455e624"
      },
      "source": [
        "### On trouve un text avec un lien ###\n",
        "df_train[\"text\"][246]"
      ],
      "execution_count": null,
      "outputs": [
        {
          "output_type": "execute_result",
          "data": {
            "text/plain": [
              "'U.S National Park Services Tonto National Forest: Stop the Annihilation of the Salt River Wild Horse... http://t.co/6LoJOoROuk via @Change'"
            ]
          },
          "metadata": {
            "tags": []
          },
          "execution_count": 35
        }
      ]
    },
    {
      "cell_type": "markdown",
      "metadata": {
        "id": "TTPdEAbKuawY"
      },
      "source": [
        "Certains tweets incluent des liens, regardons la corrélation entre le fait qu'un tweet fait bien référence à un désastre et le fait qu'il contienne un lien."
      ]
    },
    {
      "cell_type": "code",
      "metadata": {
        "id": "Id_ZluS7ukOD"
      },
      "source": [
        "### Nouvelle feature indiquant si un tweet contient un lien\n",
        "df_train[\"contains_an_url\"] = 0\n",
        "df_train.loc[df_train[\"text\"].str.contains(\"http\"), \"contains_an_url\"] = 1"
      ],
      "execution_count": null,
      "outputs": []
    },
    {
      "cell_type": "code",
      "metadata": {
        "id": "kO_9GPKLcJTL",
        "colab": {
          "base_uri": "https://localhost:8080/",
          "height": 34
        },
        "outputId": "c9b07b63-a401-487e-cdc6-8091c37cf491"
      },
      "source": [
        "print(\"Coefficient de corrélation linéaire: \", np.corrcoef(df_train[\"contains_an_url\"], df_train[\"target\"])[0][1])"
      ],
      "execution_count": null,
      "outputs": [
        {
          "output_type": "stream",
          "text": [
            "Coefficient de corrélation linéaire:  0.2474399184420561\n"
          ],
          "name": "stdout"
        }
      ]
    },
    {
      "cell_type": "markdown",
      "metadata": {
        "id": "XC2bYD7GesvN"
      },
      "source": [
        "Le coefficient de corrélation est non négligeable. Cela est peut-être dû au fait que certains tweets faisant référence à des désastres mentionnent des liens comme une source. On utilise donc une *feature* \"le tweet contient un lien\".\n",
        "Afin de simplifier le traitement des tweets, on n'analyse pas les url et on les supprime des tweets."
      ]
    },
    {
      "cell_type": "code",
      "metadata": {
        "id": "0zoWZZ4cymTK"
      },
      "source": [
        "### Nouvelle feature avec le tweet sans url\n",
        "df_train[\"urlfree_text\"] = df_train[\"text\"].apply(lambda x : re.sub(r\"http\\S+\", \"\", x))"
      ],
      "execution_count": null,
      "outputs": []
    },
    {
      "cell_type": "markdown",
      "metadata": {
        "id": "khTlodqDiyM1"
      },
      "source": [
        "## Filter les hashtags"
      ]
    },
    {
      "cell_type": "code",
      "metadata": {
        "id": "PEAnVrVKYeUM",
        "colab": {
          "base_uri": "https://localhost:8080/",
          "height": 34
        },
        "outputId": "85bb1c50-9b69-4c37-f9e6-282661ad9321"
      },
      "source": [
        "### On cherche un tweet avec un # ###\n",
        "df_train[\"text\"][3]"
      ],
      "execution_count": null,
      "outputs": [
        {
          "output_type": "execute_result",
          "data": {
            "text/plain": [
              "'13,000 people receive #wildfires evacuation orders in California '"
            ]
          },
          "metadata": {
            "tags": []
          },
          "execution_count": 39
        }
      ]
    },
    {
      "cell_type": "markdown",
      "metadata": {
        "id": "mSYwzd6pzXVm"
      },
      "source": [
        "De même certains tweets incluent des hashtags, regardons la corrélation entre le fait qu'un tweet fait bien référence à un désastre et le fait qu'il contienne un hashtag."
      ]
    },
    {
      "cell_type": "code",
      "metadata": {
        "id": "42xBwy1XzmM5"
      },
      "source": [
        "### Nouvelle feature indiquant si un tweet contient un hashtag\n",
        "df_train[\"contains_hashtag\"] = 0\n",
        "df_train.loc[df_train[\"urlfree_text\"].str.contains(r'#[^\\s]+'), \"contains_hashtag\"] = 1"
      ],
      "execution_count": null,
      "outputs": []
    },
    {
      "cell_type": "code",
      "metadata": {
        "id": "QXfPrUIrzmNN",
        "colab": {
          "base_uri": "https://localhost:8080/",
          "height": 34
        },
        "outputId": "0ea61521-f8b8-424d-d307-2c5b6dac0ab7"
      },
      "source": [
        "print(\"Coefficient de corrélation linéaire: \", np.corrcoef(df_train[\"contains_hashtag\"], df_train[\"target\"])[0][1])"
      ],
      "execution_count": null,
      "outputs": [
        {
          "output_type": "stream",
          "text": [
            "Coefficient de corrélation linéaire:  0.07339417313136051\n"
          ],
          "name": "stdout"
        }
      ]
    },
    {
      "cell_type": "markdown",
      "metadata": {
        "id": "doDQ9M4qoPsi"
      },
      "source": [
        "Le coefficient de corrélation est plus faible que pour les liens, ce qui peut être expliqué par le fait que beaucoup de hashtags soient utlisés de manière générale. Créons plutôt une *feature* \"le tweet contient un hashtag mentionné dans des tweets de désastres\"."
      ]
    },
    {
      "cell_type": "code",
      "metadata": {
        "id": "Xw6AUOFb46Pf"
      },
      "source": [
        "### Liste des hashtags mentionnés dans les tweets de désastres\n",
        "disasters_hashtags = []\n",
        "compt = 0\n",
        "for i, urlfree_tweet in df_train[\"urlfree_text\"].items():\n",
        "    if df_train[\"target\"][i] == 1:\n",
        "      list_h = re.findall('#[^\\s]+', urlfree_tweet)\n",
        "      for h in list_h:\n",
        "        hashtag = '#'+ re.sub(r'[^\\w\\s]','', h[1:]) #enlève la ponctuation du hashtag\n",
        "        if hashtag not in disasters_hashtags:\n",
        "          disasters_hashtags.append(hashtag)"
      ],
      "execution_count": null,
      "outputs": []
    },
    {
      "cell_type": "code",
      "metadata": {
        "id": "9R9Nkeqe-VgS"
      },
      "source": [
        "### Expression régulière pour tester si un tweet contient un des hashtags\n",
        "reg_h = disasters_hashtags[0]\n",
        "for i in range(1, len(disasters_hashtags)):\n",
        "  reg_h += '|' + disasters_hashtags[i]"
      ],
      "execution_count": null,
      "outputs": []
    },
    {
      "cell_type": "code",
      "metadata": {
        "id": "MKUk7ZBp8I1a"
      },
      "source": [
        "df_train[\"contains_disasters_hashtag\"] = 0\n",
        "df_train.loc[df_train[\"urlfree_text\"].str.contains(reg_h), \"contains_disasters_hashtag\"] = 1"
      ],
      "execution_count": null,
      "outputs": []
    },
    {
      "cell_type": "code",
      "metadata": {
        "id": "v5BM5Mva_tL-",
        "colab": {
          "base_uri": "https://localhost:8080/",
          "height": 34
        },
        "outputId": "53e34bd0-d7dd-41fd-ef6d-b82e6e545744"
      },
      "source": [
        "print(\"Coefficient de corrélation linéaire: \", np.corrcoef(df_train[\"contains_disasters_hashtag\"], df_train[\"target\"])[0][1])"
      ],
      "execution_count": null,
      "outputs": [
        {
          "output_type": "stream",
          "text": [
            "Coefficient de corrélation linéaire:  0.07448643296246488\n"
          ],
          "name": "stdout"
        }
      ]
    },
    {
      "cell_type": "markdown",
      "metadata": {
        "id": "RFDIjpGR_2Y_"
      },
      "source": [
        "Le coefficient de corrélation reste faible, il se peut que beaucoup des hashtags mentionnés dans les tweets de désastres soient aussi utilisés dans les tweets normaux. \n",
        "\n",
        "Supprimons les # des hashtags des tweets (on garde la suite du hashtag comme un mot). Cela peut en effet faire apparaître des mots clés pour la classification des tweets."
      ]
    },
    {
      "cell_type": "code",
      "metadata": {
        "id": "mvmxGDjqBI7Y"
      },
      "source": [
        "### Nouvelle feature avec le tweet sans url sans hashtag\n",
        "df_train[\"hashtag_urlfree_text\"] = df_train[\"urlfree_text\"].apply(lambda x : re.sub(r'#', \"\", x))"
      ],
      "execution_count": null,
      "outputs": []
    },
    {
      "cell_type": "code",
      "metadata": {
        "id": "vwqHsnLcBiqI",
        "colab": {
          "base_uri": "https://localhost:8080/",
          "height": 34
        },
        "outputId": "c8e663d3-4b2f-463e-81fc-c5e8afa4c071"
      },
      "source": [
        "df_train[\"hashtag_urlfree_text\"][3]"
      ],
      "execution_count": null,
      "outputs": [
        {
          "output_type": "execute_result",
          "data": {
            "text/plain": [
              "'13,000 people receive wildfires evacuation orders in California '"
            ]
          },
          "metadata": {
            "tags": []
          },
          "execution_count": 47
        }
      ]
    },
    {
      "cell_type": "markdown",
      "metadata": {
        "id": "AvASoclnyglV"
      },
      "source": [
        "## Retirer les mentions à des utilisateurs"
      ]
    },
    {
      "cell_type": "code",
      "metadata": {
        "id": "pDk6AGfsCcyb",
        "colab": {
          "base_uri": "https://localhost:8080/",
          "height": 34
        },
        "outputId": "ae3e045d-9d10-4551-e351-eb82d0ef11ce"
      },
      "source": [
        "### On trouve un text avec un tag ###\n",
        "df_train[\"text\"][246]"
      ],
      "execution_count": null,
      "outputs": [
        {
          "output_type": "execute_result",
          "data": {
            "text/plain": [
              "'U.S National Park Services Tonto National Forest: Stop the Annihilation of the Salt River Wild Horse... http://t.co/6LoJOoROuk via @Change'"
            ]
          },
          "metadata": {
            "tags": []
          },
          "execution_count": 48
        }
      ]
    },
    {
      "cell_type": "markdown",
      "metadata": {
        "id": "yl5ohUY5Ccyw"
      },
      "source": [
        "Certains tweets incluent des tags (mentions à des utilisateurs), regardons la corrélation entre le fait qu'un tweet fait bien référence à un désastre et le fait qu'il contienne un tag."
      ]
    },
    {
      "cell_type": "code",
      "metadata": {
        "id": "VbshGKVDDGS2"
      },
      "source": [
        "### Nouvelle feature indiquant si un tweet contient un tag\n",
        "df_train[\"contains_tag\"] = 0\n",
        "df_train.loc[df_train[\"hashtag_urlfree_text\"].str.contains(r'@[^\\s]+'), \"contains_tag\"] = 1"
      ],
      "execution_count": null,
      "outputs": []
    },
    {
      "cell_type": "code",
      "metadata": {
        "id": "MaJyNacSDGTB",
        "colab": {
          "base_uri": "https://localhost:8080/",
          "height": 34
        },
        "outputId": "3c713b61-f7cd-4b3b-c495-64b4fc4d0492"
      },
      "source": [
        "print(\"Coefficient de corrélation linéaire: \", np.corrcoef(df_train[\"contains_tag\"], df_train[\"target\"])[0][1])"
      ],
      "execution_count": null,
      "outputs": [
        {
          "output_type": "stream",
          "text": [
            "Coefficient de corrélation linéaire:  -0.11966847465994246\n"
          ],
          "name": "stdout"
        }
      ]
    },
    {
      "cell_type": "markdown",
      "metadata": {
        "id": "W5vrtMfUD3Fe"
      },
      "source": [
        "Le coefficient de corrélation négatif peut être expliqué par le fait que beaucoup de tweets normaux utilisent des tags.\n",
        "\n",
        "Retirons les mentions à des utilisateurs."
      ]
    },
    {
      "cell_type": "code",
      "metadata": {
        "id": "eDz-3vpEEoIK"
      },
      "source": [
        "### Nouvelle feature avec le tweet sans url sans mentions\n",
        "df_train[\"tag_hashtag_urlfree_text\"] = df_train[\"hashtag_urlfree_text\"].apply(lambda x : re.sub(r'@[^\\s]+','', x))"
      ],
      "execution_count": null,
      "outputs": []
    },
    {
      "cell_type": "code",
      "metadata": {
        "id": "QEMJ-mmvxllh",
        "colab": {
          "base_uri": "https://localhost:8080/",
          "height": 34
        },
        "outputId": "57054d12-bc32-4a40-bc60-da536c450cae"
      },
      "source": [
        "df_train[\"tag_hashtag_urlfree_text\"][246]"
      ],
      "execution_count": null,
      "outputs": [
        {
          "output_type": "execute_result",
          "data": {
            "text/plain": [
              "'U.S National Park Services Tonto National Forest: Stop the Annihilation of the Salt River Wild Horse...  via '"
            ]
          },
          "metadata": {
            "tags": []
          },
          "execution_count": 52
        }
      ]
    },
    {
      "cell_type": "code",
      "metadata": {
        "id": "AJcr47qczFTo",
        "colab": {
          "base_uri": "https://localhost:8080/",
          "height": 34
        },
        "outputId": "489ba5b2-e914-4f64-e8ea-a327e5f82f63"
      },
      "source": [
        "### On compte maintenant le nombre de feature après extraction du corpus ###\n",
        "vect = CountVectorizer(encoding=\"unicode\", analyzer=\"word\", lowercase=False)\n",
        "vect.fit_transform(df_train[\"tag_hashtag_urlfree_text\"])\n",
        "feature = vect.get_feature_names()\n",
        "print(len(feature))"
      ],
      "execution_count": null,
      "outputs": [
        {
          "output_type": "stream",
          "text": [
            "18953\n"
          ],
          "name": "stdout"
        }
      ]
    },
    {
      "cell_type": "markdown",
      "metadata": {
        "id": "7QvR7mH3Jsqh"
      },
      "source": [
        "## Dictionnaire"
      ]
    },
    {
      "cell_type": "markdown",
      "metadata": {
        "id": "fAHMcNx9jeRX"
      },
      "source": [
        "Les tweets ne parlant pas de catastrophe du tout peuvent être facilement catégorisés en 0. Afin de repérer un tweet qui ne parle pas du tout de catastrophes, on peut regarder si il emploie des mots du registre lexical de la catastrophe, avec dans l’idée que ce registre est relativement réduit. Cela devrait permettre d’éviter quelques faux positifs.\n",
        "\n",
        "Nous avons donc trouvé sur internet un corpus de 69 mots du registre de la catastrophe. Nous analysons pour chaque tweet si un de ces mots appartient à ce corpus à quelques fautes d’orthographe près (donc à une distance d’édition faible).  \n",
        "\n",
        "Le principe marche relativement mal : on pourrait sensiblement améliorer ce modèle en construisant un liste de mots plus grande et exhaustive, cependant l’intérêt pour nous est limité. Cependant une entreprise comme Twitter pourrait tout à fait construire une telle liste, car comparer chaque mot d’un tweet à quelques centaines de mots est relativement gérable. \n",
        "\n",
        "A l’inverse, on pourrait consituer un corpus de mots associés à des fake news tels que \"inside job\" ou \"chemtrails\". Une bonne extension de ce modèle serait d’attribuer une probabillité d’appartenance basée sur ces mots."
      ]
    },
    {
      "cell_type": "code",
      "metadata": {
        "id": "D3R5f2p3jxCr"
      },
      "source": [
        "words_catastrophy = ['tsunami', 'natural disasters', 'volcano', 'tornado', 'avalanche', 'earthquake', 'blizzard', 'drought', 'bushfire', 'tremor', 'dust storm', 'magma', 'twister', 'windstorm', 'heat wave', 'cyclone', 'forest fire', 'flood', 'fire', 'hailstorm', 'lava', 'lightning', 'high-pressure', 'hail', 'hurricane', 'seismic', 'erosion', 'whirlpool', 'Richter scale', 'whirlwind', 'cloud', 'thunderstorm', 'barometer', 'gale', 'blackout', 'gust', 'force', 'low-pressure', 'volt', 'snowstorm', 'rainstorm', 'storm', 'nimbus', 'violent storm', 'sandstorm', 'casualty', 'Beaufort scale', 'fatal', 'fatality', 'cumulonimbus', 'death', 'lost', 'destruction', 'money', 'tension', 'cataclysm', 'damage', 'uproot', 'underground', 'destroy', 'arsonist', 'wind scale', 'arson', 'rescue', 'permafrost', 'disaster', 'fault', 'scientist', 'shelter']"
      ],
      "execution_count": null,
      "outputs": []
    },
    {
      "cell_type": "code",
      "metadata": {
        "id": "lOrzKEt3xZp5",
        "colab": {
          "base_uri": "https://localhost:8080/"
        },
        "outputId": "b6be43ed-acc4-46b4-a0d2-e2e0f69dd0cf"
      },
      "source": [
        "Y_train_predict = np.ones(len(X_train))\n",
        "Z = X_train_free.to_numpy()\n",
        "\n",
        "for i in tqdm(range(1,len(X_train))):\n",
        "  counter = 0\n",
        "  for word in Z[i,0].split():\n",
        "    for catastrophy_word in words_catastrophy:\n",
        "      if(nltk.edit_distance(word,catastrophy_word)<3):\n",
        "        counter += 1\n",
        "  if(counter == 0):\n",
        "    Y_train_predict[i] = 0\n",
        "# print(confusion_matrix(y_train,Y_train_predict))\n",
        "plot_cm(y_train,Y_train_predict,\"Matrice de Confusion\")"
      ],
      "execution_count": null,
      "outputs": [
        {
          "output_type": "stream",
          "text": [
            "100%|██████████| 6089/6089 [03:16<00:00, 30.93it/s]\n"
          ],
          "name": "stderr"
        },
        {
          "output_type": "display_data",
          "data": {
            "image/png": "[encoded data removed]",
            "text/plain": [
              "<Figure size 360x360 with 2 Axes>"
            ]
          },
          "metadata": {
            "tags": [],
            "needs_background": "light"
          }
        }
      ]
    },
    {
      "cell_type": "code",
      "metadata": {
        "id": "_XaLlHP3Wjse"
      },
      "source": [
        "Y_train_predict = np.ones(len(X_train))\n",
        "Z = X_train_free.to_numpy()"
      ],
      "execution_count": null,
      "outputs": []
    },
    {
      "cell_type": "code",
      "metadata": {
        "id": "DJXF5tOMR8qR",
        "colab": {
          "base_uri": "https://localhost:8080/"
        },
        "outputId": "71b66e61-50bc-4125-caa9-036d8d5ce4d8"
      },
      "source": [
        "# On montre les valeurs où Y_train_preduct vaut 0 et y_train vaut 1\n",
        "a=(Y_train_predict + 1)*(y_train + 3) == 4\n",
        "print(Z[a])"
      ],
      "execution_count": null,
      "outputs": [
        {
          "output_type": "stream",
          "text": [
            "[]\n"
          ],
          "name": "stdout"
        }
      ]
    },
    {
      "cell_type": "markdown",
      "metadata": {
        "id": "uh07_79SaDv2"
      },
      "source": [
        "## LSA\n",
        "Latent Semantic Analysis (LSA) est une méthode d'analyse du langage permettant d'extraire des thèmes d'un corpus de textes (ici les tweets).\n",
        "\n",
        "LSA fait l'hypothèse distributionnelle : les mots proches en sens sémantique sont utilisés dans des documents proches en thème (topic) sémantique. Pour citer wikipédia,  \n",
        "\"A matrix containing word counts per document (rows represent unique words and columns represent each document) is constructed from a large piece of text and a mathematical technique called singular value decomposition (SVD) is used to reduce the number of rows while preserving the similarity structure among columns. Documents are then compared by taking the cosine of the angle between the two vectors (or the dot product between the normalizations of the two vectors) formed by any two columns. Values close to 1 represent very similar documents while values close to 0 represent very dissimilar documents.\"  \n",
        "\n",
        "On va donc utiliser cet algorithme pour extraire des topics dans notre corpus de tweets. Ces topics fournissent des features, au même titre que les mots. Nous nous sommes appuyés sur ce site [ici](https://www.datacamp.com/community/tutorials/discovering-hidden-topics-python)."
      ]
    },
    {
      "cell_type": "markdown",
      "metadata": {
        "id": "lAL9v605aODl"
      },
      "source": [
        "On va appliquer le modèle LSA"
      ]
    },
    {
      "cell_type": "code",
      "metadata": {
        "id": "_tqF_fdTaOwB",
        "colab": {
          "base_uri": "https://localhost:8080/"
        },
        "outputId": "c32f9214-dcd1-4841-91d2-1d83ad08fd35"
      },
      "source": [
        "from gensim import corpora\n",
        "from gensim.models import LsiModel\n",
        "from nltk.tokenize import RegexpTokenizer\n",
        "from nltk.corpus import stopwords\n",
        "from nltk.stem.porter import PorterStemmer\n",
        "from gensim.models.coherencemodel import CoherenceModel\n",
        "\n",
        "nltk.download('stopwords')"
      ],
      "execution_count": null,
      "outputs": [
        {
          "output_type": "stream",
          "text": [
            "[nltk_data] Downloading package stopwords to /root/nltk_data...\n",
            "[nltk_data]   Unzipping corpora/stopwords.zip.\n"
          ],
          "name": "stdout"
        },
        {
          "output_type": "execute_result",
          "data": {
            "text/plain": [
              "True"
            ]
          },
          "metadata": {
            "tags": []
          },
          "execution_count": 74
        }
      ]
    },
    {
      "cell_type": "markdown",
      "metadata": {
        "id": "FvrVPaQPafG_"
      },
      "source": [
        "Preprocessing Data  \n",
        "After data loading function, you need to preprocess the text. Following steps are taken to preprocess the text:\n",
        "\n",
        "\n",
        "\n",
        "1.   Tokenize the text articles\n",
        "2.   Remove stop words\n",
        "3.   Perform stemming on text article\n",
        "\n",
        "\n",
        "\n",
        "\n"
      ]
    },
    {
      "cell_type": "code",
      "metadata": {
        "id": "vMfvQZZWauzH"
      },
      "source": [
        "def preprocess_data(doc_set):\n",
        "    \"\"\"\n",
        "    Input  : docuemnt list\n",
        "    Purpose: preprocess text (tokenize, removing stopwords, and stemming)\n",
        "    Output : preprocessed text\n",
        "    \"\"\"\n",
        "    # initialize regex tokenizer\n",
        "    tokenizer = RegexpTokenizer(r'\\w+')\n",
        "    # create English stop words list\n",
        "    en_stop = set(stopwords.words('english'))\n",
        "    # Create p_stemmer of class PorterStemmer\n",
        "    p_stemmer = PorterStemmer()\n",
        "    # list for tokenized documents in loop\n",
        "    texts = []\n",
        "    # loop through document list\n",
        "    for i in doc_set:\n",
        "        # clean and tokenize document string\n",
        "        raw = i[0].lower()\n",
        "        tokens = tokenizer.tokenize(raw)\n",
        "        # remove stop words from tokens\n",
        "        stopped_tokens = [i for i in tokens if not i in en_stop]\n",
        "        # stem tokens\n",
        "        stemmed_tokens = [p_stemmer.stem(i) for i in stopped_tokens]\n",
        "        # add tokens to list\n",
        "        texts.append(stemmed_tokens)\n",
        "    return texts\n",
        "\n",
        "def prepare_corpus(doc_clean):\n",
        "    \"\"\"\n",
        "    Input  : clean document\n",
        "    Purpose: create term dictionary of our courpus and Converting list of documents (corpus) into Document Term Matrix\n",
        "    Output : term dictionary and Document Term Matrix\n",
        "    \"\"\"\n",
        "    # Creating the term dictionary of our courpus, where every unique term is assigned an index. dictionary = corpora.Dictionary(doc_clean)\n",
        "    dictionary = corpora.Dictionary(doc_clean)\n",
        "    # Converting list of documents (corpus) into Document Term Matrix using dictionary prepared above.\n",
        "    doc_term_matrix = [dictionary.doc2bow(doc) for doc in doc_clean]\n",
        "    # generate LDA model\n",
        "    return dictionary,doc_term_matrix\n",
        "\n",
        "def create_gensim_lsa_model(doc_clean,number_of_topics,words):\n",
        "    \"\"\"\n",
        "    Input  : clean document, number of topics and number of words associated with each topic\n",
        "    Purpose: create LSA model using gensim\n",
        "    Output : return LSA model\n",
        "    \"\"\"\n",
        "    dictionary,doc_term_matrix=prepare_corpus(doc_clean)\n",
        "    # generate LSA model\n",
        "    lsamodel = LsiModel(doc_term_matrix, num_topics=number_of_topics, id2word = dictionary)  # train model\n",
        "    print(lsamodel.print_topics(num_topics=number_of_topics, num_words=words))\n",
        "    return lsamodel\n",
        "\n",
        "def compute_coherence_values(dictionary, doc_term_matrix, doc_clean, stop, start=2, step=3):\n",
        "    \"\"\"\n",
        "    Input   : dictionary : Gensim dictionary\n",
        "              corpus : Gensim corpus\n",
        "              texts : List of input texts\n",
        "              stop : Max num of topics\n",
        "    purpose : Compute c_v coherence for various number of topics\n",
        "    Output  : model_list : List of LSA topic models\n",
        "              coherence_values : Coherence values corresponding to the LDA model with respective number of topics\n",
        "    \"\"\"\n",
        "    coherence_values = []\n",
        "    model_list = []\n",
        "    for num_topics in range(start, stop, step):\n",
        "        # generate LSA model\n",
        "        model = LsiModel(doc_term_matrix, num_topics, id2word = dictionary)  # train model\n",
        "        model_list.append(model)\n",
        "        coherencemodel = CoherenceModel(model=model, texts=doc_clean, dictionary=dictionary, coherence='c_v')\n",
        "        coherence_values.append(coherencemodel.get_coherence())\n",
        "    return model_list, coherence_values\n",
        "\n",
        "def plot_graph(doc_clean,start, stop, step):\n",
        "    dictionary,doc_term_matrix=prepare_corpus(doc_clean)\n",
        "    model_list, coherence_values = compute_coherence_values(dictionary, doc_term_matrix,doc_clean,stop, start, step)\n",
        "    # Show graph\n",
        "    x = range(start, stop, step)\n",
        "    plt.plot(x, coherence_values)\n",
        "    plt.xlabel(\"Number of Topics\")\n",
        "    plt.ylabel(\"Coherence score\")\n",
        "    plt.legend((\"coherence_values\"), loc='best')\n",
        "    plt.show()"
      ],
      "execution_count": null,
      "outputs": []
    },
    {
      "cell_type": "code",
      "metadata": {
        "id": "1qaqj5IMcLvv",
        "colab": {
          "base_uri": "https://localhost:8080/"
        },
        "outputId": "e75111ab-6752-4fe6-9905-badfb4962449"
      },
      "source": [
        "start,stop,step=2,12,1\n",
        "clean_text = preprocess_data(Z)\n",
        "plot_graph(clean_text,start,stop,step)"
      ],
      "execution_count": null,
      "outputs": [
        {
          "output_type": "display_data",
          "data": {
            "image/png": "[encoded data removed]",
            "text/plain": [
              "<Figure size 432x288 with 1 Axes>"
            ]
          },
          "metadata": {
            "tags": [],
            "needs_background": "light"
          }
        }
      ]
    },
    {
      "cell_type": "markdown",
      "metadata": {
        "id": "5CSBlWrs5Sy7"
      },
      "source": [
        "On voit que 2 sujets permettent d'avoir un bien meilleur fit avec les données ; on va donc passer en hyperparamètre 2 sujets principaux, qui auront logiquement une corrélation avec le sujet de notre recherche."
      ]
    },
    {
      "cell_type": "code",
      "metadata": {
        "id": "YGii-zcqiqEY"
      },
      "source": [
        "def compute_coherence_values(dictionary, doc_term_matrix, doc_clean, stop, start=2, step=3):\n",
        "    \"\"\"\n",
        "    Input   : dictionary : Gensim dictionary\n",
        "              corpus : Gensim corpus\n",
        "              texts : List of input texts\n",
        "              stop : Max num of topics\n",
        "    purpose : Compute c_v coherence for various number of topics\n",
        "    Output  : model_list : List of LSA topic models\n",
        "              coherence_values : Coherence values corresponding to the LDA model with respective number of topics\n",
        "    \"\"\"\n",
        "    coherence_values = []\n",
        "    model_list = []\n",
        "    for num_topics in range(start, stop, step):\n",
        "        # generate LSA model\n",
        "        model = LsiModel(doc_term_matrix, num_topics=number_of_topics, id2word = dictionary)  # train model\n",
        "        model_list.append(model)\n",
        "        coherencemodel = CoherenceModel(model=model, texts=doc_clean, dictionary=dictionary, coherence='c_v')\n",
        "        coherence_values.append(coherencemodel.get_coherence())\n",
        "    return model_list, coherence_values"
      ],
      "execution_count": null,
      "outputs": []
    },
    {
      "cell_type": "code",
      "metadata": {
        "id": "o2zSUlIKcPT2",
        "colab": {
          "base_uri": "https://localhost:8080/"
        },
        "outputId": "3fad7b0c-0d12-45df-a6f8-45c65e93e506"
      },
      "source": [
        "# LSA Model\n",
        "number_of_topics=2\n",
        "words=10\n",
        "document_list = Z\n",
        "clean_text=preprocess_data(document_list)\n",
        "model=create_gensim_lsa_model(clean_text,number_of_topics,words)\n",
        "print(model)"
      ],
      "execution_count": null,
      "outputs": [
        {
          "output_type": "stream",
          "text": [
            "[(0, '0.366*\"amp\" + 0.351*\"like\" + 0.282*\"fire\" + 0.217*\"û_\" + 0.179*\"get\" + 0.164*\"2\" + 0.129*\"bomb\" + 0.118*\"new\" + 0.115*\"video\" + 0.113*\"peopl\"'), (1, '0.563*\"like\" + -0.335*\"û_\" + -0.271*\"bomb\" + 0.241*\"amp\" + -0.215*\"suicid\" + -0.169*\"kill\" + -0.149*\"fire\" + -0.141*\"bomber\" + 0.132*\"get\" + -0.128*\"old\"')]\n",
            "LsiModel(num_terms=10377, num_topics=2, decay=1.0, chunksize=20000)\n"
          ],
          "name": "stdout"
        }
      ]
    },
    {
      "cell_type": "markdown",
      "metadata": {
        "id": "R826dAeajIZG"
      },
      "source": [
        "On a découvert donc 2 topics. Ces topics ne correspondent pas forcément à \"fake disasters\", mais on peut remarquer dans les \"mots\" ayant une grosse influence des mots lourds de sens, parlant de mort, etc, ainsi que d'autres plus obscurs, qui sont probablement des facteurs de confusion, comme les nombres. Nous avons cependant évalué qu'il était très difficile de traiter les nombres, étant donnée la multitude de formats (13 000, treize mille, 13k, 13 k...).  \n",
        "Une autre surprise a été l'importance de 'amp', qui est le nom d'une agence de presse belge, mais aussi... le code HTML de l'esperluette. Ces symboles, présents dans url mais pas que, sont des *facteurs de confusion* : des données réparties aléatoirement dans les tweets qui perturbe nos algorithmes."
      ]
    },
    {
      "cell_type": "markdown",
      "metadata": {
        "id": "Oq1rNLA5Fw2g"
      },
      "source": [
        "## Modèles avec ces nouvelles *features*"
      ]
    },
    {
      "cell_type": "markdown",
      "metadata": {
        "id": "rV7SnFCGXgQf"
      },
      "source": [
        "Nous allons maintenant entrainer à nouveau nos deux algorithmes (Ridge et la machine à noyeaux gaussien) avec notre base de données nettoyées. Nous allons ainsi voir si nos intuitions étaient bonnes lorsque nous avons forgé nos features artificielles.\n",
        "\n",
        "Commençons par préparer nos données"
      ]
    },
    {
      "cell_type": "code",
      "metadata": {
        "id": "8q8NhCjxzKzn"
      },
      "source": [
        "### On teste notre Ridge precécédant sur cette base purgée de vecteurs inutiles. On garde pour le moment les mêmes paramètres d'entrainement.\n",
        "X_train_free, X_val_free, y_train_free, y_val_free = train_test_split(df_train[['tag_hashtag_urlfree_text', 'contains_an_url', 'contains_disasters_hashtag', 'contains_tag']], df_train[\"target\"], test_size=0.2, random_state=42)"
      ],
      "execution_count": null,
      "outputs": []
    },
    {
      "cell_type": "code",
      "metadata": {
        "id": "wp9I32d8uki_"
      },
      "source": [
        "### On transforme nos données ###\n",
        "tfid_vectorizer = TfidfVectorizer()\n",
        "tfid_vectorizer.fit(X_train_free[\"tag_hashtag_urlfree_text\"])\n",
        "train_vectors_tfid_free = tfid_vectorizer.transform(X_train_free[\"tag_hashtag_urlfree_text\"])\n",
        "val_vectors_tfid_free = tfid_vectorizer.transform(X_val_free[\"tag_hashtag_urlfree_text\"])"
      ],
      "execution_count": null,
      "outputs": []
    },
    {
      "cell_type": "code",
      "metadata": {
        "id": "3mJZuT5BM0tx"
      },
      "source": [
        "### On ajoute nos features après traitement de la base de données ###\n",
        "train_vectors_tfid_free = hstack((X_train_free[\"contains_tag\"].to_numpy()[:,np.newaxis],X_train_free[\"contains_disasters_hashtag\"].to_numpy()[:,np.newaxis],X_train_free[\"contains_an_url\"].to_numpy()[:,np.newaxis],train_vectors_tfid_free))\n",
        "val_vectors_tfid_free = hstack((X_val_free[\"contains_tag\"].to_numpy()[:,np.newaxis],X_val_free[\"contains_disasters_hashtag\"].to_numpy()[:,np.newaxis],X_val_free[\"contains_an_url\"].to_numpy()[:,np.newaxis],val_vectors_tfid_free))"
      ],
      "execution_count": null,
      "outputs": []
    },
    {
      "cell_type": "markdown",
      "metadata": {
        "id": "jiybN-H3R97F"
      },
      "source": [
        "### Ridge"
      ]
    },
    {
      "cell_type": "markdown",
      "metadata": {
        "id": "gBRlUt0HgqkT"
      },
      "source": [
        "On teste un gridsearch pour trouver les paramètres adéquats sur Ridge. On effectue pour cela plusieurs balayages successifs pour trouver une valeur maximisant l'accuracy."
      ]
    },
    {
      "cell_type": "code",
      "metadata": {
        "id": "kiznTZzrvwOX",
        "colab": {
          "base_uri": "https://localhost:8080/",
          "height": 34
        },
        "outputId": "d0955a9f-0c92-4acd-8d29-ff93ef1ca673"
      },
      "source": [
        "parameters = {'alpha':np.arange(0.5,20,0.1)}\n",
        "ridge = linear_model.RidgeClassifier()\n",
        "clf_ridge = GridSearchCV(ridge, parameters, scoring=\"accuracy\", cv=2)\n",
        "### On lance la gridsearch ###\n",
        "clf_ridge.fit(train_vectors_tfid_free, y_train_free)\n",
        "### Meilleure alpha ###\n",
        "print(\"Le meilleur paramètre est {} pour une précision de {}\".format(clf_ridge.best_params_,clf_ridge.best_score_))"
      ],
      "execution_count": null,
      "outputs": [
        {
          "output_type": "stream",
          "text": [
            "Le meilleur paramètre est {'alpha': 1.4999999999999998} pour une précision de 0.7894909688013136\n"
          ],
          "name": "stdout"
        }
      ]
    },
    {
      "cell_type": "code",
      "metadata": {
        "id": "tEP3Se4evwPF",
        "colab": {
          "base_uri": "https://localhost:8080/",
          "height": 34
        },
        "outputId": "a25cbd89-b1a0-447f-e69f-45dc71194d8c"
      },
      "source": [
        "parameters = {'alpha':np.arange(1,2,0.01)}\n",
        "ridge = linear_model.RidgeClassifier()\n",
        "clf_ridge = GridSearchCV(ridge, parameters, scoring=\"accuracy\", cv=2)\n",
        "### On lance la gridsearch ###\n",
        "clf_ridge.fit(train_vectors_tfid_free, y_train_free)\n",
        "### Meilleure alpha ###\n",
        "print(\"Le meilleur paramètre est {} pour une précision de {}\".format(clf_ridge.best_params_,clf_ridge.best_score_))"
      ],
      "execution_count": null,
      "outputs": [
        {
          "output_type": "stream",
          "text": [
            "Le meilleur paramètre est {'alpha': 1.4200000000000004} pour une précision de 0.7894909688013136\n"
          ],
          "name": "stdout"
        }
      ]
    },
    {
      "cell_type": "code",
      "metadata": {
        "id": "4ENKxKWEvwPV",
        "colab": {
          "base_uri": "https://localhost:8080/",
          "height": 34
        },
        "outputId": "5119c38a-24b0-413d-d465-a43425b4a1bd"
      },
      "source": [
        "parameters = {'alpha':np.arange(1.45,1.55,0.001)}\n",
        "ridge = linear_model.RidgeClassifier()\n",
        "clf_ridge = GridSearchCV(ridge, parameters, scoring=\"accuracy\", cv=2)\n",
        "### On lance la gridsearch ###\n",
        "clf_ridge.fit(train_vectors_tfid_free, y_train_free)\n",
        "### Meilleure alpha ###\n",
        "print(\"Le meilleur paramètre est {} pour une précision de {}\".format(clf_ridge.best_params_,clf_ridge.best_score_))"
      ],
      "execution_count": null,
      "outputs": [
        {
          "output_type": "stream",
          "text": [
            "Le meilleur paramètre est {'alpha': 1.494999999999995} pour une précision de 0.789655172413793\n"
          ],
          "name": "stdout"
        }
      ]
    },
    {
      "cell_type": "code",
      "metadata": {
        "id": "r9c38nlYQ8DX",
        "colab": {
          "base_uri": "https://localhost:8080/",
          "height": 34
        },
        "outputId": "8de0cef1-dfc7-4c7f-a232-ce4077b003a2"
      },
      "source": [
        "### On entraine notre classifier Ridge ###\n",
        "clf_ridge = linear_model.RidgeClassifier(alpha=1.489)\n",
        "clf_ridge.fit(train_vectors_tfid_free, y_train_free)\n",
        "print(\"L'accuracy sur les données de validations est : \",accuracy_score(clf_ridge.predict(val_vectors_tfid_free), y_val_free))"
      ],
      "execution_count": null,
      "outputs": [
        {
          "output_type": "stream",
          "text": [
            "L'accuracy sur les données de validations est :  0.8115561391989494\n"
          ],
          "name": "stdout"
        }
      ]
    },
    {
      "cell_type": "code",
      "metadata": {
        "id": "Xb5u5fIN77vr",
        "colab": {
          "base_uri": "https://localhost:8080/",
          "height": 350
        },
        "outputId": "c56fda4c-a6a4-4a3e-f4ef-fa25263e3d4a"
      },
      "source": [
        "### On affiche la matrice de confusion ###\n",
        "clf_ridge = linear_model.RidgeClassifier(alpha=1.489)\n",
        "clf_ridge.fit(train_vectors_tfid_free, y_train_free)\n",
        "plot_cm(y_val_free,clf_ridge.predict(val_vectors_tfid_free),\"Matrice de Confusion avec nettoyage des données\")"
      ],
      "execution_count": null,
      "outputs": [
        {
          "output_type": "display_data",
          "data": {
            "image/png": "[encoded data removed]",
            "text/plain": [
              "<Figure size 360x360 with 2 Axes>"
            ]
          },
          "metadata": {
            "tags": [],
            "needs_background": "light"
          }
        }
      ]
    },
    {
      "cell_type": "code",
      "metadata": {
        "id": "mbNZBHc98LRM",
        "colab": {
          "base_uri": "https://localhost:8080/",
          "height": 350
        },
        "outputId": "b984f14f-3520-4a51-843c-a2f4e7105f09"
      },
      "source": [
        "### On affiche la matrice de confusion ###\n",
        "clf_ridge = linear_model.RidgeClassifier(alpha=1.606)\n",
        "clf_ridge.fit(train_vectors_tfid, y_train)\n",
        "plot_cm(y_val,clf_ridge.predict(val_vectors_tfid),\"Matrice de Confusion sans nettoyage des données\")"
      ],
      "execution_count": null,
      "outputs": [
        {
          "output_type": "display_data",
          "data": {
            "image/png": "[encoded data removed]",
            "text/plain": [
              "<Figure size 360x360 with 2 Axes>"
            ]
          },
          "metadata": {
            "tags": [],
            "needs_background": "light"
          }
        }
      ]
    },
    {
      "cell_type": "markdown",
      "metadata": {
        "id": "0O_aAR7Qgzo5"
      },
      "source": [
        "Nous trouvons ainsi un score de 81.2% avec nos nouvelles features, soit une augmentation de 1.4 points par rapport à notre optimisation de départ. Nos nouvelles features permettent donc à l'algorithme de véritablement mieux s'approprier les données qu'il observe ! On remarque que nos nouvelles features permettent de mieux gérer les tweets non catastrophiques (qui sont majorataires sur notre exemple de validation) au prix d'une performance moins élevée sur les tweets catastrophiques. Voyons maintenant ce qu'il en est pour notre second algorithme :"
      ]
    },
    {
      "cell_type": "markdown",
      "metadata": {
        "id": "ziu0bkRVSCI0"
      },
      "source": [
        "### Machine à noyaux"
      ]
    },
    {
      "cell_type": "markdown",
      "metadata": {
        "id": "WiFieyJ_hI0r"
      },
      "source": [
        "Nous lançons encore une fois des grid-searchs de plus en plus fins pour optimiser notre modèle."
      ]
    },
    {
      "cell_type": "code",
      "metadata": {
        "id": "SgXyONgFSGJu",
        "colab": {
          "base_uri": "https://localhost:8080/",
          "height": 34
        },
        "outputId": "e4bbc99c-8e3b-4209-c59c-1907b30eb188"
      },
      "source": [
        "parameters = {'C':np.arange(0.5,5,0.5)}\n",
        "svm = SVC(kernel=\"rbf\", gamma = \"scale\", random_state = 1)\n",
        "grid_svc = GridSearchCV(svm, parameters, scoring=\"accuracy\", cv=2)\n",
        "grid_svc.fit(train_vectors_tfid_free, y_train_free)\n",
        "print(\"Le meilleur paramètre est {} pour une précision de {}\".format(grid_svc.best_params_,grid_svc.best_score_))"
      ],
      "execution_count": null,
      "outputs": [
        {
          "output_type": "stream",
          "text": [
            "Le meilleur paramètre est {'C': 3.0} pour une précision de 0.7819376026272578\n"
          ],
          "name": "stdout"
        }
      ]
    },
    {
      "cell_type": "code",
      "metadata": {
        "id": "9termkNNTPh1",
        "colab": {
          "base_uri": "https://localhost:8080/",
          "height": 34
        },
        "outputId": "506483a5-9e4e-41c2-e41c-5e2f49d8d841"
      },
      "source": [
        "parameters = {'C':np.arange(2.5,3.5,0.1)}\n",
        "svm = SVC(kernel=\"rbf\", gamma = \"scale\", random_state = 1)\n",
        "grid_svc = GridSearchCV(svm, parameters, scoring=\"accuracy\", cv=2)\n",
        "grid_svc.fit(train_vectors_tfid, y_train)\n",
        "print(\"Le meilleur paramètre est {} pour une précision de {}\".format(grid_svc.best_params_,grid_svc.best_score_))"
      ],
      "execution_count": null,
      "outputs": [
        {
          "output_type": "stream",
          "text": [
            "Le meilleur paramètre est {'C': 2.8000000000000003} pour une précision de 0.7847290640394089\n"
          ],
          "name": "stdout"
        }
      ]
    },
    {
      "cell_type": "code",
      "metadata": {
        "id": "9CRI8j0jT0-c",
        "colab": {
          "base_uri": "https://localhost:8080/",
          "height": 34
        },
        "outputId": "c0514eb9-a27e-4aa9-c120-c4a5632787db"
      },
      "source": [
        "parameters = {'C':np.arange(2.7,2.9,0.01)}\n",
        "svm = SVC(kernel=\"rbf\", gamma = \"scale\", random_state = 1)\n",
        "grid_svc = GridSearchCV(svm, parameters, scoring=\"accuracy\", cv=2)\n",
        "grid_svc.fit(train_vectors_tfid, y_train)\n",
        "print(\"Le meilleur paramètre est {} pour une précision de {}\".format(grid_svc.best_params_,grid_svc.best_score_))"
      ],
      "execution_count": null,
      "outputs": [
        {
          "output_type": "stream",
          "text": [
            "Le meilleur paramètre est {'C': 2.71} pour une précision de 0.7847290640394089\n"
          ],
          "name": "stdout"
        }
      ]
    },
    {
      "cell_type": "code",
      "metadata": {
        "id": "wBn08coSUt9r",
        "colab": {
          "base_uri": "https://localhost:8080/",
          "height": 34
        },
        "outputId": "c6dd3c2d-7371-4ccc-94f0-0f67bf32be13"
      },
      "source": [
        "parameters = {'C':np.arange(2.70,2.73,0.001)}\n",
        "svm = SVC(kernel=\"rbf\", gamma = \"scale\", random_state = 1)\n",
        "grid_svc = GridSearchCV(svm, parameters, scoring=\"accuracy\", cv=2)\n",
        "grid_svc.fit(train_vectors_tfid, y_train)\n",
        "print(\"Le meilleur paramètre est {} pour une précision de {}\".format(grid_svc.best_params_,grid_svc.best_score_))"
      ],
      "execution_count": null,
      "outputs": [
        {
          "output_type": "stream",
          "text": [
            "Le meilleur paramètre est {'C': 2.708999999999999} pour une précision de 0.7847290640394089\n"
          ],
          "name": "stdout"
        }
      ]
    },
    {
      "cell_type": "code",
      "metadata": {
        "id": "IthKWSpLWJk-",
        "colab": {
          "base_uri": "https://localhost:8080/",
          "height": 34
        },
        "outputId": "977a895c-f996-4968-d9b5-8663c7cbe88c"
      },
      "source": [
        "### On entraine notre classifier Ridge ###\n",
        "clf_svm = SVC(C = 2.708,kernel=\"rbf\", gamma = \"scale\", random_state = 1)\n",
        "clf_svm.fit(train_vectors_tfid_free, y_train_free)\n",
        "print(\"L'accuracy sur les données de validations est : \",accuracy_score(clf_svm.predict(val_vectors_tfid_free), y_val_free))"
      ],
      "execution_count": null,
      "outputs": [
        {
          "output_type": "stream",
          "text": [
            "L'accuracy sur les données de validations est :  0.8023637557452397\n"
          ],
          "name": "stdout"
        }
      ]
    },
    {
      "cell_type": "code",
      "metadata": {
        "id": "UfzeKt5d9fBC",
        "colab": {
          "base_uri": "https://localhost:8080/",
          "height": 350
        },
        "outputId": "c2b91bce-94a9-4793-8d41-64f774e23a5d"
      },
      "source": [
        "### On affiche la matrice de confusion ###\n",
        "clf_svm = SVC(C = 2.708,kernel=\"rbf\", gamma = \"scale\", random_state = 1)\n",
        "clf_svm.fit(train_vectors_tfid_free, y_train_free)\n",
        "plot_cm(y_val_free,clf_svm.predict(val_vectors_tfid_free),\"Matrice de Confusion avec nettoyage des données\")"
      ],
      "execution_count": null,
      "outputs": [
        {
          "output_type": "display_data",
          "data": {
            "image/png": "[encoded data removed]",
            "text/plain": [
              "<Figure size 360x360 with 2 Axes>"
            ]
          },
          "metadata": {
            "tags": [],
            "needs_background": "light"
          }
        }
      ]
    },
    {
      "cell_type": "code",
      "metadata": {
        "id": "XoRqnFnh9pW6",
        "colab": {
          "base_uri": "https://localhost:8080/",
          "height": 350
        },
        "outputId": "f8cebf07-8c48-4424-9411-1b63ac9fac60"
      },
      "source": [
        "### On affiche la matrice de confusion ###\n",
        "clf_svm = SVC(C = 1.55,kernel=\"rbf\", gamma = \"scale\", random_state = 1)\n",
        "clf_svm.fit(train_vectors_tfid, y_train)\n",
        "plot_cm(y_val,clf_svm.predict(val_vectors_tfid),\"Matrice de Confusion\")"
      ],
      "execution_count": null,
      "outputs": [
        {
          "output_type": "display_data",
          "data": {
            "image/png": "[encoded data removed]",
            "text/plain": [
              "<Figure size 360x360 with 2 Axes>"
            ]
          },
          "metadata": {
            "tags": [],
            "needs_background": "light"
          }
        }
      ]
    },
    {
      "cell_type": "markdown",
      "metadata": {
        "id": "3DxAU3H2hQ4t"
      },
      "source": [
        "Ici encore, nous améliorons nos performances par rapport à l'entrainement sur la base de données non nettoyée. On remarque le même phénomène que précédement : avec notre ajout de features nos algorithmes sont plus robustes sur la classification de tweets non désastreux. Nous augmentons ainsi de 0.4 points notre précision grâce à ces nouvelles features ! L'augmentation est certe plus faible que la précédente mais reste tout de même conséquente."
      ]
    },
    {
      "cell_type": "markdown",
      "metadata": {
        "id": "NYzXS63IbXfx"
      },
      "source": [
        "# 4. LSTM"
      ]
    },
    {
      "cell_type": "markdown",
      "metadata": {
        "id": "bY7oM7aR4C99"
      },
      "source": [
        "Nous allons explorer une autre méthode d'apprentissage pour tenter d'améliorer nos prédictions. Nous allons mettre en place un certain type d'architecture de réseau récurrent, aussi connu sous le nom de LSTM dont on peut trouver les détails [ici](https://www.isca-speech.org/archive/archive_papers/interspeech_2012/i12_0194.pdf)."
      ]
    },
    {
      "cell_type": "markdown",
      "metadata": {
        "id": "jm0LHa3C5E_d"
      },
      "source": [
        "Pour extraire les features de notre text, nous prenons le partie de tester 2 nouvelles techniques : un modèle pré-entrainé avec GloVe et un embedding layer que l'on entrainera.\n",
        "\n",
        "Dans un premier temps, nous implémentons une partie utilisant l'algorithme GloVe (Global Vectors for Word Representation) que l'on retrouve [ici](https://nlp.stanford.edu/projects/glove/). Nous prenons un modèle pré-entrainé sur un large corpus de 2 milliards de tweets qui contient environ 27 milliards de mots de vocabulaire différents. "
      ]
    },
    {
      "cell_type": "code",
      "metadata": {
        "id": "MsSVsty_y44H",
        "colab": {
          "base_uri": "https://localhost:8080/",
          "height": 225
        },
        "outputId": "c6b21c35-d880-4fc3-f5b4-72068fbed5c5"
      },
      "source": [
        "### Installation de l'api glove pour python ###\n",
        "! pip install glove_python"
      ],
      "execution_count": null,
      "outputs": [
        {
          "output_type": "stream",
          "text": [
            "Collecting glove_python\n",
            "\u001b[?25l  Downloading https://files.pythonhosted.org/packages/3e/79/7e7e548dd9dcb741935d031117f4bed133276c2a047aadad42f1552d1771/glove_python-0.1.0.tar.gz (263kB)\n",
            "\r\u001b[K     |█▎                              | 10kB 14.0MB/s eta 0:00:01\r\u001b[K     |██▌                             | 20kB 3.3MB/s eta 0:00:01\r\u001b[K     |███▊                            | 30kB 4.3MB/s eta 0:00:01\r\u001b[K     |█████                           | 40kB 4.6MB/s eta 0:00:01\r\u001b[K     |██████▎                         | 51kB 3.7MB/s eta 0:00:01\r\u001b[K     |███████▌                        | 61kB 4.1MB/s eta 0:00:01\r\u001b[K     |████████▊                       | 71kB 4.5MB/s eta 0:00:01\r\u001b[K     |██████████                      | 81kB 4.7MB/s eta 0:00:01\r\u001b[K     |███████████▏                    | 92kB 5.0MB/s eta 0:00:01\r\u001b[K     |████████████▌                   | 102kB 5.0MB/s eta 0:00:01\r\u001b[K     |█████████████▊                  | 112kB 5.0MB/s eta 0:00:01\r\u001b[K     |███████████████                 | 122kB 5.0MB/s eta 0:00:01\r\u001b[K     |████████████████▏               | 133kB 5.0MB/s eta 0:00:01\r\u001b[K     |█████████████████▍              | 143kB 5.0MB/s eta 0:00:01\r\u001b[K     |██████████████████▊             | 153kB 5.0MB/s eta 0:00:01\r\u001b[K     |████████████████████            | 163kB 5.0MB/s eta 0:00:01\r\u001b[K     |█████████████████████▏          | 174kB 5.0MB/s eta 0:00:01\r\u001b[K     |██████████████████████▍         | 184kB 5.0MB/s eta 0:00:01\r\u001b[K     |███████████████████████▋        | 194kB 5.0MB/s eta 0:00:01\r\u001b[K     |█████████████████████████       | 204kB 5.0MB/s eta 0:00:01\r\u001b[K     |██████████████████████████▏     | 215kB 5.0MB/s eta 0:00:01\r\u001b[K     |███████████████████████████▍    | 225kB 5.0MB/s eta 0:00:01\r\u001b[K     |████████████████████████████▋   | 235kB 5.0MB/s eta 0:00:01\r\u001b[K     |█████████████████████████████▉  | 245kB 5.0MB/s eta 0:00:01\r\u001b[K     |███████████████████████████████▏| 256kB 5.0MB/s eta 0:00:01\r\u001b[K     |████████████████████████████████| 266kB 5.0MB/s \n",
            "\u001b[?25hRequirement already satisfied: numpy in /usr/local/lib/python3.6/dist-packages (from glove_python) (1.18.4)\n",
            "Requirement already satisfied: scipy in /usr/local/lib/python3.6/dist-packages (from glove_python) (1.4.1)\n",
            "Building wheels for collected packages: glove-python\n",
            "  Building wheel for glove-python (setup.py) ... \u001b[?25l\u001b[?25hdone\n",
            "  Created wheel for glove-python: filename=glove_python-0.1.0-cp36-cp36m-linux_x86_64.whl size=700247 sha256=d3d41920d3b1053133b5a2afa158166ee49ec40d479319ea4cd85f95c901018d\n",
            "  Stored in directory: /root/.cache/pip/wheels/88/4b/6d/10c0d2ad32c9d9d68beec9694a6f0b6e83ab1662a90a089a4b\n",
            "Successfully built glove-python\n",
            "Installing collected packages: glove-python\n",
            "Successfully installed glove-python-0.1.0\n"
          ],
          "name": "stdout"
        }
      ]
    },
    {
      "cell_type": "code",
      "metadata": {
        "id": "NfMj8rw0zUZm"
      },
      "source": [
        "### Importation de l'API python de GloVe ###\n",
        "import glove"
      ],
      "execution_count": null,
      "outputs": []
    },
    {
      "cell_type": "code",
      "metadata": {
        "id": "di-B1uL-7M2Q",
        "colab": {
          "base_uri": "https://localhost:8080/",
          "height": 364
        },
        "outputId": "0fc171db-0bd3-43be-bc5a-346bb3e11e85"
      },
      "source": [
        "### Téléchargement du modèle pré-entrainé\n",
        "!wget http://nlp.stanford.edu/data/glove.twitter.27B.zip"
      ],
      "execution_count": null,
      "outputs": [
        {
          "output_type": "stream",
          "text": [
            "--2020-05-29 18:16:32--  http://nlp.stanford.edu/data/glove.twitter.27B.zip\n",
            "Resolving nlp.stanford.edu (nlp.stanford.edu)... 171.64.67.140\n",
            "Connecting to nlp.stanford.edu (nlp.stanford.edu)|171.64.67.140|:80... connected.\n",
            "HTTP request sent, awaiting response... 302 Found\n",
            "Location: https://nlp.stanford.edu/data/glove.twitter.27B.zip [following]\n",
            "--2020-05-29 18:16:32--  https://nlp.stanford.edu/data/glove.twitter.27B.zip\n",
            "Connecting to nlp.stanford.edu (nlp.stanford.edu)|171.64.67.140|:443... connected.\n",
            "HTTP request sent, awaiting response... 301 Moved Permanently\n",
            "Location: http://downloads.cs.stanford.edu/nlp/data/glove.twitter.27B.zip [following]\n",
            "--2020-05-29 18:16:32--  http://downloads.cs.stanford.edu/nlp/data/glove.twitter.27B.zip\n",
            "Resolving downloads.cs.stanford.edu (downloads.cs.stanford.edu)... 171.64.64.22\n",
            "Connecting to downloads.cs.stanford.edu (downloads.cs.stanford.edu)|171.64.64.22|:80... connected.\n",
            "HTTP request sent, awaiting response... 200 OK\n",
            "Length: 1520408563 (1.4G) [application/zip]\n",
            "Saving to: ‘glove.twitter.27B.zip’\n",
            "\n",
            "glove.twitter.27B.z 100%[===================>]   1.42G  2.09MB/s    in 11m 40s \n",
            "\n",
            "2020-05-29 18:28:13 (2.07 MB/s) - ‘glove.twitter.27B.zip’ saved [1520408563/1520408563]\n",
            "\n"
          ],
          "name": "stdout"
        }
      ]
    },
    {
      "cell_type": "code",
      "metadata": {
        "id": "EaXznEHI-cNg",
        "colab": {
          "base_uri": "https://localhost:8080/",
          "height": 104
        },
        "outputId": "39afb3a5-786b-4853-9fb5-6b9ed916a0ab"
      },
      "source": [
        "### Préparation de notre modèle pré-entrainé ###\n",
        "!unzip glove.twitter.27B.zip"
      ],
      "execution_count": null,
      "outputs": [
        {
          "output_type": "stream",
          "text": [
            "Archive:  glove.twitter.27B.zip\n",
            "  inflating: glove.twitter.27B.25d.txt  \n",
            "  inflating: glove.twitter.27B.50d.txt  \n",
            "  inflating: glove.twitter.27B.100d.txt  \n",
            "  inflating: glove.twitter.27B.200d.txt  \n"
          ],
          "name": "stdout"
        }
      ]
    },
    {
      "cell_type": "markdown",
      "metadata": {
        "id": "ubXq2dtE7V0v"
      },
      "source": [
        "On peut maintenant donner les paramètres de notre modèle d'extraction de features. Au vu de la petite taille de notre corpus, nous nous donnons au maximum MAX_NB_WORDS mots pour extraire les features. Les tweets étant également très courts, nous supposons qu'ils ne font pas plus de MAX_SEQUENCE_LENGTH mots (i.e. 30 dans notre cas). Nous décidons également de représenter un mot par un vecteur de taille EMBEDDING_DIM vallant 50, cette valeur étant fixée par notre modèle pré-entrainé. "
      ]
    },
    {
      "cell_type": "code",
      "metadata": {
        "id": "KP9nDh3GbdwK"
      },
      "source": [
        "# The maximum number of words to be used. (most frequent)\n",
        "MAX_NB_WORDS = 25000\n",
        "# Max number of words in each tweet.\n",
        "MAX_SEQUENCE_LENGTH = 30 \n",
        "# This is fixed.\n",
        "EMBEDDING_DIM = 50 # fixed by GloVe"
      ],
      "execution_count": null,
      "outputs": []
    },
    {
      "cell_type": "markdown",
      "metadata": {
        "id": "6qqWZvL48lw4"
      },
      "source": [
        "On récupère les bases de données nettoyées de la partie précédente pour appliquer nos algorithmes : on retire au minimum les urls (qui ne seront jamais prèsent dans notre modèle pré-entrainé) ainsi que les références @pseudo."
      ]
    },
    {
      "cell_type": "code",
      "metadata": {
        "id": "Cca0RJV9txgU"
      },
      "source": [
        "df_train_urlfree = df_train[\"text\"].apply(lambda x : re.sub(r\"http\\S+\", \"\", x))\n",
        "df_train_at_free = df_train_urlfree.apply(lambda x : re.sub('@[^\\s]+','',x))"
      ],
      "execution_count": null,
      "outputs": []
    },
    {
      "cell_type": "markdown",
      "metadata": {
        "id": "_EkTR7iE_RR7"
      },
      "source": [
        "On transforme nos tweets en séquences d'entrée en découpant chaque mot et en lui associant une unique clé entière."
      ]
    },
    {
      "cell_type": "code",
      "metadata": {
        "id": "47yFjJ0UebBA",
        "colab": {
          "base_uri": "https://localhost:8080/",
          "height": 69
        },
        "outputId": "1b8ed44b-d790-453e-c7e7-d2958cb51cd9"
      },
      "source": [
        "# split and tokenize data (we remove special characters)\n",
        "tokenizer = Tokenizer(num_words=MAX_NB_WORDS, filters=\"!'#$%&()*+,-./:;<=>?@[\\\\]^_`{|}~\\t\\n\", lower=True, split = \" \")\n",
        "tokenizer.fit_on_texts(df_train_at_free)\n",
        "word_index = tokenizer.word_index\n",
        "print('Found %s unique tokens.' % len(word_index))\n",
        "X = tokenizer.texts_to_sequences(df_train_at_free)\n",
        "X = pad_sequences(X, maxlen=MAX_SEQUENCE_LENGTH)\n",
        "print('Shape of data tensor:', X.shape)\n",
        "Y = pd.get_dummies(df_train[\"target\"]).values\n",
        "print('Shape of label tensor:', Y.shape)"
      ],
      "execution_count": null,
      "outputs": [
        {
          "output_type": "stream",
          "text": [
            "Found 15116 unique tokens.\n",
            "Shape of data tensor: (7613, 30)\n",
            "Shape of label tensor: (7613, 2)\n"
          ],
          "name": "stdout"
        }
      ]
    },
    {
      "cell_type": "markdown",
      "metadata": {
        "id": "vJEVzUVd13aZ"
      },
      "source": [
        "On découpe ensuite notre base de données pour entrainer notre réseau sur 80% de la base et garder 20% pour mesurer en mesurer les performances. On prend soin de garder le même état aléatoire pour refaire une découpe similaire à celle faite au début."
      ]
    },
    {
      "cell_type": "code",
      "metadata": {
        "id": "oqoymc1JgIn5"
      },
      "source": [
        "X_train_lstm, X_test_lstm, Y_train_lstm, Y_test_lstm = train_test_split(X,Y, test_size = 0.2, random_state = 42)"
      ],
      "execution_count": null,
      "outputs": []
    },
    {
      "cell_type": "markdown",
      "metadata": {
        "id": "svRDmYei_b88"
      },
      "source": [
        "On charge la matrice de correspondance de notre modèle pre-entrainé. Cette matrice fait le lien entre un mot comme \"hello\" identifié par un entier et sa représentation sous forme d'un vecteur de dimension 50."
      ]
    },
    {
      "cell_type": "code",
      "metadata": {
        "id": "2vGnxauFL8_w",
        "colab": {
          "base_uri": "https://localhost:8080/",
          "height": 191
        },
        "outputId": "e065285e-bd0e-41dc-b112-6eb742a4c9b6"
      },
      "source": [
        "### On charge la matrice d'embedding et on affiche la représentation vectorielle du mot \"hello\" ### \n",
        "word_embedding = glove.Glove.load_stanford(\"glove.twitter.27B.50d.txt\")\n",
        "word_embedding.word_vectors[word_embedding.dictionary[\"hello\"]]"
      ],
      "execution_count": null,
      "outputs": [
        {
          "output_type": "execute_result",
          "data": {
            "text/plain": [
              "array([ 0.28751  ,  0.31323  , -0.29318  ,  0.17199  , -0.69232  ,\n",
              "       -0.4593   ,  1.3364   ,  0.709    ,  0.12118  ,  0.11476  ,\n",
              "       -0.48505  , -0.088608 , -3.0154   , -0.54024  , -1.326    ,\n",
              "        0.39477  ,  0.11755  , -0.17816  , -0.32272  ,  0.21715  ,\n",
              "        0.043144 , -0.43666  , -0.55857  , -0.47601  , -0.095172 ,\n",
              "        0.0031934,  0.1192   , -0.23643  ,  1.3234   , -0.45093  ,\n",
              "       -0.65837  , -0.13865  ,  0.22145  , -0.35806  ,  0.20988  ,\n",
              "        0.054894 , -0.080322 ,  0.48942  ,  0.19206  ,  0.4556   ,\n",
              "       -1.642    , -0.83323  , -0.12974  ,  0.96514  , -0.18214  ,\n",
              "        0.37733  , -0.19622  , -0.12231  , -0.10496  ,  0.45388  ])"
            ]
          },
          "metadata": {
            "tags": []
          },
          "execution_count": 17
        }
      ]
    },
    {
      "cell_type": "markdown",
      "metadata": {
        "id": "Ws2rGXRt_2OT"
      },
      "source": [
        "Il convient maintenant de relier notre modèle pré-entrainé aux séquences que nous avons implémentés plus haut. En effet, on possède une matrice word_embedding qui relie un mot identifié par un entier à un vecteur de dimension 50 grâce à l'algorithme GloVe. On possède également une correspondance entre chaque mot de tweet et un entier grâce à notre pré-traitement en séquence. Il faut ainsi relier les identifiants des mots issus des séquences aux identifiants des mots issus de notre modèle pré-entrainé, ce que nous faisons maintenant"
      ]
    },
    {
      "cell_type": "code",
      "metadata": {
        "id": "BvQ5Zl55zXu_",
        "colab": {
          "base_uri": "https://localhost:8080/",
          "height": 52
        },
        "outputId": "b7cf1aba-810f-461c-c68f-dd34fb8fbf8d"
      },
      "source": [
        "embedding_matrix = np.zeros((MAX_NB_WORDS, EMBEDDING_DIM)) \n",
        "j = 0\n",
        "words_not_found = []\n",
        "for word, i in word_index.items():\n",
        "    if i >= MAX_NB_WORDS:\n",
        "        continue\n",
        "    try : \n",
        "      embedding_vector = word_embedding.word_vectors[word_embedding.dictionary[word]]\n",
        "    except KeyError:\n",
        "      embedding_vector = None\n",
        "      words_not_found.append(word)\n",
        "    if embedding_vector is not None:\n",
        "        # words not found in embedding index will be all-zeros.\n",
        "        embedding_matrix[i] = embedding_vector\n",
        "print(\"Il y a {} mots qui n'ont pas été trouvé dans le vocabulaire de notre modèle GloVe, voici un extrait de ces mots : \".format(len(words_not_found)))\n",
        "print(words_not_found[:20])"
      ],
      "execution_count": null,
      "outputs": [
        {
          "output_type": "stream",
          "text": [
            "Il y a 2773 mots qui n'ont pas été trouvé dans le vocabulaire de notre modèle GloVe, voici un extrait de ces mots : \n",
            "['2', '3', '1', '4', '5', '2015', 'mh370', '8', '11', '\\x89û', '9', '6', '15', '10', '08', '7', '70', '40', '\\x89ûò', '30']\n"
          ],
          "name": "stdout"
        }
      ]
    },
    {
      "cell_type": "markdown",
      "metadata": {
        "id": "oIibkF6ZBlGa"
      },
      "source": [
        "On remarque ici que nous avons 2773 mots dans nos tweets qui ne sont pas dans notre modèle pré-entrainé. On perd donc de l'information sur notre base de données et sur nos tweets, mais on gagne en rapidité sur l'entraînement de notre modèle LSTM. Les mots qui ne se trouvent pas dans le vocabulaire sont majoritairement des nombres et également des mots sans aucun sens, comme \"mh370\" ou \"\\x89û\" qui proviennent de l'encodage de certains signes, comme &, dans la base de données, ou d'un numéro de vol.\n",
        "\n",
        "On propose maintenant deux modèles de LSTM. Le premier utilise le modèle pré-entrainé avec GloVe et le second utilise un Embedding Layer pour apprendre lui même la meilleure répresentation possible des mots du corpus."
      ]
    },
    {
      "cell_type": "code",
      "metadata": {
        "id": "w54Lap7ne4Ue"
      },
      "source": [
        "### Modèle LSTM classique ###\n",
        "def get_model(X):\n",
        "  model = Sequential()\n",
        "  EMBEDDING_DIM = 30\n",
        "  model.add(Embedding(MAX_NB_WORDS, EMBEDDING_DIM, input_length = X.shape[1]))\n",
        "  #we ignore all the zeros values (irrelevant for treatement)\n",
        "  model.add(Masking(0.0))\n",
        "  #drop out to reduce overfit\n",
        "  model.add(SpatialDropout1D(0.2))\n",
        "  #once the data preprocessed, we can then apply the LSTM Network\n",
        "  model.add(LSTM(EMBEDDING_DIM, dropout=0, recurrent_dropout=0)) \n",
        "  model.add(Dense(2, activation = \"sigmoid\")) #fully connected layer (only two classes therefore use sigmoid function as activation)\n",
        "  #we use a binary cross entropy loss as the problem is a two-classes classification\n",
        "  model.compile(loss = binary_crossentropy, optimizer='adam', metrics=[\"accuracy\"])\n",
        "  print(model.summary())\n",
        "  return model"
      ],
      "execution_count": null,
      "outputs": []
    },
    {
      "cell_type": "code",
      "metadata": {
        "id": "UMkzMQr0UYRd"
      },
      "source": [
        "### Modèle LSTM utilisant une couche pré-entrainée avec GloVe ###\n",
        "def get_model_glove(X):\n",
        "  model = Sequential()\n",
        "  model.add(Embedding(MAX_NB_WORDS,\n",
        "              EMBEDDING_DIM,\n",
        "              embeddings_initializer=Constant(embedding_matrix),\n",
        "              input_length=MAX_SEQUENCE_LENGTH,\n",
        "              trainable=False))\n",
        "  #we ignore all the zeros values (irrelevant for treatement)\n",
        "  model.add(Masking(0.0))\n",
        "  model.add(LSTM(EMBEDDING_DIM, dropout=0.1, recurrent_dropout=0.1))  \n",
        "  model.add(Dense(50, activation = \"relu\"))\n",
        "  model.add(Dense(2, activation = \"sigmoid\")) #fully connected layer (only two classes therefore use sigmoid function as activation)\n",
        "  #we use a binary cross entropy loss as the problem is a two-classes classification\n",
        "  model.compile(loss = binary_crossentropy, optimizer='adam', metrics=[\"accuracy\"])\n",
        "  print(model.summary())\n",
        "  return model"
      ],
      "execution_count": null,
      "outputs": []
    },
    {
      "cell_type": "markdown",
      "metadata": {
        "id": "xEb0pZdj2Ulv"
      },
      "source": [
        "On s'intéresse maintenant à l'entrainement de nos réseaux de neurones. On commence par entrainer notre réseau de neurone avec notre modèle pré-entrainé GloVe."
      ]
    },
    {
      "cell_type": "code",
      "metadata": {
        "id": "ikyt-AKChFLs",
        "colab": {
          "base_uri": "https://localhost:8080/",
          "height": 833
        },
        "outputId": "4b8124b2-47f3-46b9-ca1f-81d91fec0851"
      },
      "source": [
        "model = get_model_glove(X)\n",
        "epochs = 20\n",
        "batch_size = 32\n",
        "\n",
        "history = model.fit(X_train_lstm, Y_train_lstm, epochs=epochs, batch_size=batch_size,validation_split=0.1, callbacks=[EarlyStopping(monitor='val_loss', patience = 10, min_delta = 0.01,restore_best_weights=True)])"
      ],
      "execution_count": null,
      "outputs": [
        {
          "output_type": "stream",
          "text": [
            "Model: \"sequential_4\"\n",
            "_________________________________________________________________\n",
            "Layer (type)                 Output Shape              Param #   \n",
            "=================================================================\n",
            "embedding_4 (Embedding)      (None, 30, 50)            1250000   \n",
            "_________________________________________________________________\n",
            "masking_4 (Masking)          (None, 30, 50)            0         \n",
            "_________________________________________________________________\n",
            "lstm_4 (LSTM)                (None, 50)                20200     \n",
            "_________________________________________________________________\n",
            "dense_6 (Dense)              (None, 50)                2550      \n",
            "_________________________________________________________________\n",
            "dense_7 (Dense)              (None, 2)                 102       \n",
            "=================================================================\n",
            "Total params: 1,272,852\n",
            "Trainable params: 22,852\n",
            "Non-trainable params: 1,250,000\n",
            "_________________________________________________________________\n",
            "None\n",
            "Epoch 1/20\n",
            "172/172 [==============================] - 9s 50ms/step - loss: 0.5162 - accuracy: 0.7577 - val_loss: 0.4702 - val_accuracy: 0.7800\n",
            "Epoch 2/20\n",
            "172/172 [==============================] - 8s 48ms/step - loss: 0.4404 - accuracy: 0.8072 - val_loss: 0.4449 - val_accuracy: 0.8030\n",
            "Epoch 3/20\n",
            "172/172 [==============================] - 8s 48ms/step - loss: 0.4320 - accuracy: 0.8073 - val_loss: 0.4359 - val_accuracy: 0.8046\n",
            "Epoch 4/20\n",
            "172/172 [==============================] - 8s 48ms/step - loss: 0.4164 - accuracy: 0.8155 - val_loss: 0.4312 - val_accuracy: 0.8161\n",
            "Epoch 5/20\n",
            "172/172 [==============================] - 8s 48ms/step - loss: 0.4067 - accuracy: 0.8238 - val_loss: 0.4356 - val_accuracy: 0.8128\n",
            "Epoch 6/20\n",
            "172/172 [==============================] - 8s 48ms/step - loss: 0.3975 - accuracy: 0.8227 - val_loss: 0.4346 - val_accuracy: 0.8161\n",
            "Epoch 7/20\n",
            "172/172 [==============================] - 8s 48ms/step - loss: 0.3883 - accuracy: 0.8267 - val_loss: 0.4289 - val_accuracy: 0.8194\n",
            "Epoch 8/20\n",
            "172/172 [==============================] - 8s 49ms/step - loss: 0.3778 - accuracy: 0.8387 - val_loss: 0.4333 - val_accuracy: 0.8276\n",
            "Epoch 9/20\n",
            "172/172 [==============================] - 8s 48ms/step - loss: 0.3638 - accuracy: 0.8455 - val_loss: 0.4504 - val_accuracy: 0.8046\n",
            "Epoch 10/20\n",
            "172/172 [==============================] - 8s 49ms/step - loss: 0.3564 - accuracy: 0.8453 - val_loss: 0.4465 - val_accuracy: 0.8144\n",
            "Epoch 11/20\n",
            "172/172 [==============================] - 8s 49ms/step - loss: 0.3464 - accuracy: 0.8489 - val_loss: 0.4597 - val_accuracy: 0.8095\n",
            "Epoch 12/20\n",
            "172/172 [==============================] - 9s 53ms/step - loss: 0.3386 - accuracy: 0.8564 - val_loss: 0.4439 - val_accuracy: 0.8144\n",
            "Epoch 13/20\n",
            "172/172 [==============================] - 8s 49ms/step - loss: 0.3242 - accuracy: 0.8617 - val_loss: 0.4582 - val_accuracy: 0.8128\n",
            "Epoch 14/20\n",
            "172/172 [==============================] - 8s 48ms/step - loss: 0.3154 - accuracy: 0.8601 - val_loss: 0.4818 - val_accuracy: 0.8128\n"
          ],
          "name": "stdout"
        }
      ]
    },
    {
      "cell_type": "code",
      "metadata": {
        "id": "OfxV1HTAcnxs",
        "colab": {
          "base_uri": "https://localhost:8080/",
          "height": 86
        },
        "outputId": "4b9c8629-c18f-4bdc-f9bf-94d855d60350"
      },
      "source": [
        "accr = model.evaluate(X_test_lstm,Y_test_lstm)\n",
        "print('Test set\\n  Loss: {:0.3f}\\n  Accuracy: {:0.6f}'.format(accr[0],accr[1]))"
      ],
      "execution_count": null,
      "outputs": [
        {
          "output_type": "stream",
          "text": [
            "48/48 [==============================] - 0s 7ms/step - loss: 0.4241 - accuracy: 0.8162\n",
            "Test set\n",
            "  Loss: 0.424\n",
            "  Accuracy: 0.816152\n"
          ],
          "name": "stdout"
        }
      ]
    },
    {
      "cell_type": "code",
      "metadata": {
        "id": "jCoSucbHhxkM",
        "colab": {
          "base_uri": "https://localhost:8080/",
          "height": 281
        },
        "outputId": "8da0d145-8d8f-42a4-8d75-ac5f7f2fafc8"
      },
      "source": [
        "### Affichage de la loss en fonction des epochs ###\n",
        "plt.title('Loss')\n",
        "plt.plot(history.history['loss'], label='train')\n",
        "plt.plot(history.history['val_loss'], label='test')\n",
        "plt.legend()\n",
        "plt.show();"
      ],
      "execution_count": null,
      "outputs": [
        {
          "output_type": "display_data",
          "data": {
            "image/png": "[encoded data removed]",
            "text/plain": [
              "<Figure size 432x288 with 1 Axes>"
            ]
          },
          "metadata": {
            "tags": [],
            "needs_background": "light"
          }
        }
      ]
    },
    {
      "cell_type": "code",
      "metadata": {
        "id": "j7rEDB8oIK1W",
        "colab": {
          "base_uri": "https://localhost:8080/",
          "height": 281
        },
        "outputId": "31f2beda-2310-43ba-a503-55f2df558006"
      },
      "source": [
        "### Affichage de l'accuracy en fonction des epochs ###\n",
        "plt.title('Accuracy')\n",
        "plt.plot(history.history['accuracy'], label='train')\n",
        "plt.plot(history.history['val_accuracy'], label='test')\n",
        "plt.legend()\n",
        "plt.show();"
      ],
      "execution_count": null,
      "outputs": [
        {
          "output_type": "display_data",
          "data": {
            "image/png": "[encoded data removed]",
            "text/plain": [
              "<Figure size 432x288 with 1 Axes>"
            ]
          },
          "metadata": {
            "tags": [],
            "needs_background": "light"
          }
        }
      ]
    },
    {
      "cell_type": "markdown",
      "metadata": {
        "id": "ylVNUwrdYB9s"
      },
      "source": [
        "On remarque que le réseau overfit après quelques épochs, et ce malgré le nombre faible de paramètres entrainables dans notre réseau : environ 22 000. L'accuracy est plus élevée qu'avec les algorithmes que nous avions développés en début de partie, avec environ 81.6% de précision. \n",
        "\n",
        "Nous allons maintenant comparer cette valeur à l'entrainement de notre second réseau de neurones qui n'utilise pas GloVe."
      ]
    },
    {
      "cell_type": "code",
      "metadata": {
        "id": "52eAAP8oZpN_",
        "colab": {
          "base_uri": "https://localhost:8080/",
          "height": 764
        },
        "outputId": "98db3d3e-579b-4810-b288-b6c4f15a0597"
      },
      "source": [
        "model = get_model(X)\n",
        "epochs = 20\n",
        "batch_size = 32\n",
        "\n",
        "history = model.fit(X_train_lstm, Y_train_lstm, epochs=epochs, batch_size=batch_size,validation_split=0.1, callbacks=[EarlyStopping(monitor='val_loss', patience = 10, min_delta = 0.01,restore_best_weights=True)])"
      ],
      "execution_count": null,
      "outputs": [
        {
          "output_type": "stream",
          "text": [
            "Model: \"sequential_6\"\n",
            "_________________________________________________________________\n",
            "Layer (type)                 Output Shape              Param #   \n",
            "=================================================================\n",
            "embedding_6 (Embedding)      (None, 30, 30)            750000    \n",
            "_________________________________________________________________\n",
            "masking_6 (Masking)          (None, 30, 30)            0         \n",
            "_________________________________________________________________\n",
            "spatial_dropout1d_3 (Spatial (None, 30, 30)            0         \n",
            "_________________________________________________________________\n",
            "lstm_6 (LSTM)                (None, 30)                7320      \n",
            "_________________________________________________________________\n",
            "dense_9 (Dense)              (None, 2)                 62        \n",
            "=================================================================\n",
            "Total params: 757,382\n",
            "Trainable params: 757,382\n",
            "Non-trainable params: 0\n",
            "_________________________________________________________________\n",
            "None\n",
            "Epoch 1/20\n",
            "172/172 [==============================] - 7s 40ms/step - loss: 0.5999 - accuracy: 0.6712 - val_loss: 0.4476 - val_accuracy: 0.7997\n",
            "Epoch 2/20\n",
            "172/172 [==============================] - 6s 34ms/step - loss: 0.3620 - accuracy: 0.8498 - val_loss: 0.4153 - val_accuracy: 0.8144\n",
            "Epoch 3/20\n",
            "172/172 [==============================] - 6s 34ms/step - loss: 0.2404 - accuracy: 0.9119 - val_loss: 0.4469 - val_accuracy: 0.7931\n",
            "Epoch 4/20\n",
            "172/172 [==============================] - 6s 36ms/step - loss: 0.1679 - accuracy: 0.9411 - val_loss: 0.5216 - val_accuracy: 0.7997\n",
            "Epoch 5/20\n",
            "172/172 [==============================] - 6s 33ms/step - loss: 0.1214 - accuracy: 0.9599 - val_loss: 0.5592 - val_accuracy: 0.7997\n",
            "Epoch 6/20\n",
            "172/172 [==============================] - 6s 33ms/step - loss: 0.0932 - accuracy: 0.9688 - val_loss: 0.6582 - val_accuracy: 0.7833\n",
            "Epoch 7/20\n",
            "172/172 [==============================] - 6s 33ms/step - loss: 0.0775 - accuracy: 0.9763 - val_loss: 0.6628 - val_accuracy: 0.8013\n",
            "Epoch 8/20\n",
            "172/172 [==============================] - 6s 33ms/step - loss: 0.0667 - accuracy: 0.9766 - val_loss: 0.7654 - val_accuracy: 0.7750\n",
            "Epoch 9/20\n",
            "172/172 [==============================] - 6s 33ms/step - loss: 0.0638 - accuracy: 0.9766 - val_loss: 0.7848 - val_accuracy: 0.7849\n",
            "Epoch 10/20\n",
            "172/172 [==============================] - 6s 33ms/step - loss: 0.0502 - accuracy: 0.9807 - val_loss: 0.8377 - val_accuracy: 0.7882\n",
            "Epoch 11/20\n",
            "172/172 [==============================] - 6s 33ms/step - loss: 0.0481 - accuracy: 0.9807 - val_loss: 0.8089 - val_accuracy: 0.7882\n",
            "Epoch 12/20\n",
            "172/172 [==============================] - 6s 33ms/step - loss: 0.0480 - accuracy: 0.9799 - val_loss: 0.9377 - val_accuracy: 0.7734\n"
          ],
          "name": "stdout"
        }
      ]
    },
    {
      "cell_type": "code",
      "metadata": {
        "id": "S1JhM5PCaBdy",
        "colab": {
          "base_uri": "https://localhost:8080/",
          "height": 86
        },
        "outputId": "6a43435d-1102-447b-d70c-17a89e95b623"
      },
      "source": [
        "accr = model.evaluate(X_test_lstm,Y_test_lstm)\n",
        "print('Test set\\n  Loss: {:0.3f}\\n  Accuracy: {:0.6f}'.format(accr[0],accr[1]))"
      ],
      "execution_count": null,
      "outputs": [
        {
          "output_type": "stream",
          "text": [
            "48/48 [==============================] - 0s 5ms/step - loss: 0.4455 - accuracy: 0.8050\n",
            "Test set\n",
            "  Loss: 0.445\n",
            "  Accuracy: 0.804990\n"
          ],
          "name": "stdout"
        }
      ]
    },
    {
      "cell_type": "markdown",
      "metadata": {
        "id": "lMPdhMvbxLO5"
      },
      "source": [
        "On remarque que ce second réseau overfit bien plus rapidement, malgré le dropout que nous avions implémenté. L'accuracy est également moins importante, mais reste tout de même meilleure que certaines des méthodes que nous avions implémentées."
      ]
    },
    {
      "cell_type": "markdown",
      "metadata": {
        "id": "z-eqfB_VzTCa"
      },
      "source": [
        "# 5. Conclusion\n",
        "\n",
        "Nous avons voulu explorer les grandes méthodes de NLP afin de mieux comprendre l'état de l'art dans le sujet. Pour ce faire, nous avons implémenté les méthodes de Ridge Classification, Boosting Trees, Machines à Noyaux et Random Forest. Ces différents modèles donnent déjà, sans extractions de features des résultats encourageant, de l'ordre de 78% d'accuracy. Nous avons ensuite tunés ces modèles en réalisant un travail de nettoyage sur les données. Cela nous a permis de pousser les modèles à leur limite.\n",
        "\n",
        "Pour augmenter notre score, il nous fallait donc augmenter l'information disponible. Nous avons donc retiré les informations non sémantiquement utiles et tenté d'extraire d'autres mots clés contenus dans les hashtags et url. Ces méthodes nous ont permis de gagner encore 1 point d'accuracy en moyenne.\n",
        "\n",
        "Nous avons ensuite exploré une dernière méthode utilisantun réseau de neurones récurrent (LSTM) ainsi qu'un modèle pré-entrainé (GloVe). Ce dernier nous a permis d'atteindre la meilleure accuracy, à 81.5%. Pour aller plus loin, nous aurions pu par exemple mieux analyser les features dans les tweets, notamment les indicateurs chiffrés et faire de la correction orthographique pour déterminer le sens de certains mots mal écrits. Certaines équipes sont parvenues à atteindre des accuracy entre 99 et 100%. Ces ajouts pourraient nous permettre d'augmenter davantage les performances du classifier (F1-score de 1)."
      ]
    }
  ]
}